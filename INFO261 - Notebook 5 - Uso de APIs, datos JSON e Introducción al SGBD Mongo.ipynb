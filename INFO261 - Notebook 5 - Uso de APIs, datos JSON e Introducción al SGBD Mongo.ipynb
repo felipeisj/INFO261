{
 "cells": [
  {
   "cell_type": "markdown",
   "metadata": {},
   "source": [
    "# Objetivos del Notebook\n",
    "\n",
    "En el trabajo práctico anterior, hemos conversado de algunos principios para diseñar una API web, definiendo puntos para acceder a recursos. Hemos implementando una API web básica en Python con el framework Flask. Este notebook 5 tiene como objetivos:\n",
    "\n",
    "- utilizar APIs web existentes\n",
    "\n",
    "- manipular datos al formato JSON utilizando librerias Python para la Ciencia de Datos: Pandas, MatplotLib\n",
    "\n",
    "- utilizar el SGBD no relacional Mongo describiendo primeras características que lo diferencia de MySQL"
   ]
  },
  {
   "cell_type": "markdown",
   "metadata": {},
   "source": [
    "# 1. Utilizar la API OpenAQ\n",
    "\n",
    "<a href=\"https://openaq.org\">OpenAQ</a> es una iniciativa colaborativa ciudadana y científica que apunta a proveer datos abiertos y herramientas para monitorear y proteger la calidad del aire. Esta comunidad recopiló ~300 millones de medidas del aire en 67 paises.\n",
    "\n",
    "En particular, OpenAQ toma la forma de:\n",
    "\n",
    "- una API Web, desarrollada en Javascript (framework Node.js), la cual interactua con el SGBD relacional PostgreSQL. Todo el código está abierto bajo la licencia <i>MIT License</i>: <a href=\"https://github.com/openaq/openaq-api\">OpenAQ-API</a>\n",
    "\n",
    "- Una aplicación web, desarrollada en Javascript tambien que permite navegar visualmente en los datos: <a href=\"https://dolugen.github.io/openaq-browser/#/cities\">OpenAQ-browser</a>\n",
    "\n",
    "La documentación de la API se encuentra aqui: <a href=\"https://docs.openaq.org/\">documentación</a>\n",
    "\n"
   ]
  },
  {
   "cell_type": "markdown",
   "metadata": {},
   "source": [
    "<b>Pregunta</b>:\n",
    "\n",
    "- ¿En algunas palabras cuáles son las características de la licencia MIT License? ¿Cuál es la diferencia principal con la licencia GPL?\n",
    "- ¿Cuántos puntos de acceso tiene OpenAQ-API?\n",
    "- ¿Cuántas tablas tiene la Base de Datos utilizada por OpenAQ?"
   ]
  },
  {
   "cell_type": "markdown",
   "metadata": {},
   "source": [
    "Ejemplo de consulta a OpenAQ-API para responder a la pregunta siguiente:\n",
    "<b>¿Cuál es el nivel de contaminación en la ciudad de Valdivia el 29 de octubre 2018?</b>"
   ]
  },
  {
   "cell_type": "code",
   "execution_count": 13,
   "metadata": {},
   "outputs": [
    {
     "name": "stdout",
     "output_type": "stream",
     "text": [
      "{'meta': {'name': 'openaq-api', 'license': 'CC BY 4.0', 'website': 'https://docs.openaq.org/', 'page': 1, 'limit': 10, 'found': 159}, 'results': [{'location': 'Valdivia', 'parameter': 'so2', 'date': {'utc': '2018-10-30T00:00:00.000Z', 'local': '2018-10-29T21:00:00-03:00'}, 'value': 2.71, 'unit': 'µg/m³', 'coordinates': {'latitude': -39.831316104673, 'longitude': -73.22851282209}, 'country': 'CL', 'city': 'Valdivia'}, {'location': 'Valdivia', 'parameter': 'co', 'date': {'utc': '2018-10-30T00:00:00.000Z', 'local': '2018-10-29T21:00:00-03:00'}, 'value': 565.81, 'unit': 'µg/m³', 'coordinates': {'latitude': -39.831316104673, 'longitude': -73.22851282209}, 'country': 'CL', 'city': 'Valdivia'}, {'location': 'Valdivia', 'parameter': 'pm25', 'date': {'utc': '2018-10-30T00:00:00.000Z', 'local': '2018-10-29T21:00:00-03:00'}, 'value': 21, 'unit': 'µg/m³', 'coordinates': {'latitude': -39.831316104673, 'longitude': -73.22851282209}, 'country': 'CL', 'city': 'Valdivia'}, {'location': 'Valdivia', 'parameter': 'pm10', 'date': {'utc': '2018-10-30T00:00:00.000Z', 'local': '2018-10-29T21:00:00-03:00'}, 'value': 43, 'unit': 'µg/m³', 'coordinates': {'latitude': -39.831316104673, 'longitude': -73.22851282209}, 'country': 'CL', 'city': 'Valdivia'}, {'location': 'Valdivia', 'parameter': 'so2', 'date': {'utc': '2018-10-29T23:00:00.000Z', 'local': '2018-10-29T20:00:00-03:00'}, 'value': 2.59, 'unit': 'µg/m³', 'coordinates': {'latitude': -39.831316104673, 'longitude': -73.22851282209}, 'country': 'CL', 'city': 'Valdivia'}, {'location': 'Valdivia', 'parameter': 'co', 'date': {'utc': '2018-10-29T23:00:00.000Z', 'local': '2018-10-29T20:00:00-03:00'}, 'value': 305.49, 'unit': 'µg/m³', 'coordinates': {'latitude': -39.831316104673, 'longitude': -73.22851282209}, 'country': 'CL', 'city': 'Valdivia'}, {'location': 'Valdivia', 'parameter': 'pm10', 'date': {'utc': '2018-10-29T23:00:00.000Z', 'local': '2018-10-29T20:00:00-03:00'}, 'value': 25, 'unit': 'µg/m³', 'coordinates': {'latitude': -39.831316104673, 'longitude': -73.22851282209}, 'country': 'CL', 'city': 'Valdivia'}, {'location': 'Valdivia', 'parameter': 'pm25', 'date': {'utc': '2018-10-29T23:00:00.000Z', 'local': '2018-10-29T20:00:00-03:00'}, 'value': 15, 'unit': 'µg/m³', 'coordinates': {'latitude': -39.831316104673, 'longitude': -73.22851282209}, 'country': 'CL', 'city': 'Valdivia'}, {'location': 'Valdivia', 'parameter': 'so2', 'date': {'utc': '2018-10-29T22:00:00.000Z', 'local': '2018-10-29T19:00:00-03:00'}, 'value': 2.47, 'unit': 'µg/m³', 'coordinates': {'latitude': -39.831316104673, 'longitude': -73.22851282209}, 'country': 'CL', 'city': 'Valdivia'}, {'location': 'Valdivia', 'parameter': 'pm10', 'date': {'utc': '2018-10-29T22:00:00.000Z', 'local': '2018-10-29T19:00:00-03:00'}, 'value': 21, 'unit': 'µg/m³', 'coordinates': {'latitude': -39.831316104673, 'longitude': -73.22851282209}, 'country': 'CL', 'city': 'Valdivia'}]}\n"
     ]
    }
   ],
   "source": [
    "# importar la librería Requests que sirve para enviar consultas HTTP\n",
    "import requests \n",
    "  \n",
    "# api-endpoint \n",
    "endpoint = \"https://api.openaq.org/v1/measurements\"\n",
    "parameters = \"?country=CL&city=Valdivia&include_fields=&limit=10&date_from=2018-10-28&date_to=2018-10-30\"\n",
    "URL = endpoint+parameters\n",
    "\n",
    "r = requests.get(url = URL) \n",
    "  \n",
    "# extracting data in json format \n",
    "data = r.json() \n",
    "  \n",
    "print(data)"
   ]
  },
  {
   "cell_type": "markdown",
   "metadata": {},
   "source": [
    "El código anterior devuelve un solo objeto JSON bruto, en el cual se encuentra un campo <i>results</i>. El valor del campo <i>results</i> es un arreglo de objetos JSON que corresponden a medidas de la contaminación en Valdivia en distintas fechas."
   ]
  },
  {
   "cell_type": "markdown",
   "metadata": {},
   "source": [
    "Para acceder a valores particulares del JSON, la sintáxis es simple. Por ejemplo, si queremos ver el contenido del campo <i>meta</i>:"
   ]
  },
  {
   "cell_type": "code",
   "execution_count": 14,
   "metadata": {
    "scrolled": true
   },
   "outputs": [
    {
     "data": {
      "text/plain": [
       "{'name': 'openaq-api',\n",
       " 'license': 'CC BY 4.0',\n",
       " 'website': 'https://docs.openaq.org/',\n",
       " 'page': 1,\n",
       " 'limit': 10,\n",
       " 'found': 159}"
      ]
     },
     "execution_count": 14,
     "metadata": {},
     "output_type": "execute_result"
    }
   ],
   "source": [
    "data[\"meta\"]"
   ]
  },
  {
   "cell_type": "markdown",
   "metadata": {},
   "source": [
    "Observen cómo navegar en los distintos elementos del objeto JSON:"
   ]
  },
  {
   "cell_type": "code",
   "execution_count": 15,
   "metadata": {},
   "outputs": [
    {
     "data": {
      "text/plain": [
       "'CC BY 4.0'"
      ]
     },
     "execution_count": 15,
     "metadata": {},
     "output_type": "execute_result"
    }
   ],
   "source": [
    "data[\"meta\"][\"license\"]"
   ]
  },
  {
   "cell_type": "code",
   "execution_count": 6,
   "metadata": {},
   "outputs": [
    {
     "data": {
      "text/plain": [
       "{'location': 'Valdivia',\n",
       " 'parameter': 'co',\n",
       " 'date': {'utc': '2018-10-30T00:00:00.000Z',\n",
       "  'local': '2018-10-29T21:00:00-03:00'},\n",
       " 'value': 565.81,\n",
       " 'unit': 'µg/m³',\n",
       " 'coordinates': {'latitude': -39.831316104673, 'longitude': -73.22851282209},\n",
       " 'country': 'CL',\n",
       " 'city': 'Valdivia'}"
      ]
     },
     "execution_count": 6,
     "metadata": {},
     "output_type": "execute_result"
    }
   ],
   "source": [
    "data[\"results\"][1]"
   ]
  },
  {
   "cell_type": "code",
   "execution_count": 7,
   "metadata": {},
   "outputs": [
    {
     "data": {
      "text/plain": [
       "-39.831316104673"
      ]
     },
     "execution_count": 7,
     "metadata": {},
     "output_type": "execute_result"
    }
   ],
   "source": [
    "data[\"results\"][1][\"coordinates\"][\"latitude\"]"
   ]
  },
  {
   "cell_type": "markdown",
   "metadata": {},
   "source": [
    "En Python, la librería <a href=\"https://pandas.pydata.org/\">Pandas</a> permite facilitar la manipulación de datos. A continuación, mostramos cómo cargar los datos de la API en una tabla (un \"DataFrame\" en la terminología de Pandas)."
   ]
  },
  {
   "cell_type": "code",
   "execution_count": 16,
   "metadata": {
    "scrolled": true
   },
   "outputs": [
    {
     "data": {
      "text/html": [
       "<div>\n",
       "<style scoped>\n",
       "    .dataframe tbody tr th:only-of-type {\n",
       "        vertical-align: middle;\n",
       "    }\n",
       "\n",
       "    .dataframe tbody tr th {\n",
       "        vertical-align: top;\n",
       "    }\n",
       "\n",
       "    .dataframe thead th {\n",
       "        text-align: right;\n",
       "    }\n",
       "</style>\n",
       "<table border=\"1\" class=\"dataframe\">\n",
       "  <thead>\n",
       "    <tr style=\"text-align: right;\">\n",
       "      <th></th>\n",
       "      <th>city</th>\n",
       "      <th>coordinates</th>\n",
       "      <th>country</th>\n",
       "      <th>date</th>\n",
       "      <th>location</th>\n",
       "      <th>parameter</th>\n",
       "      <th>unit</th>\n",
       "      <th>value</th>\n",
       "    </tr>\n",
       "  </thead>\n",
       "  <tbody>\n",
       "    <tr>\n",
       "      <th>0</th>\n",
       "      <td>Valdivia</td>\n",
       "      <td>{'latitude': -39.831316104673, 'longitude': -7...</td>\n",
       "      <td>CL</td>\n",
       "      <td>{'utc': '2018-10-30T00:00:00.000Z', 'local': '...</td>\n",
       "      <td>Valdivia</td>\n",
       "      <td>so2</td>\n",
       "      <td>µg/m³</td>\n",
       "      <td>2.71</td>\n",
       "    </tr>\n",
       "    <tr>\n",
       "      <th>1</th>\n",
       "      <td>Valdivia</td>\n",
       "      <td>{'latitude': -39.831316104673, 'longitude': -7...</td>\n",
       "      <td>CL</td>\n",
       "      <td>{'utc': '2018-10-30T00:00:00.000Z', 'local': '...</td>\n",
       "      <td>Valdivia</td>\n",
       "      <td>co</td>\n",
       "      <td>µg/m³</td>\n",
       "      <td>565.81</td>\n",
       "    </tr>\n",
       "    <tr>\n",
       "      <th>2</th>\n",
       "      <td>Valdivia</td>\n",
       "      <td>{'latitude': -39.831316104673, 'longitude': -7...</td>\n",
       "      <td>CL</td>\n",
       "      <td>{'utc': '2018-10-30T00:00:00.000Z', 'local': '...</td>\n",
       "      <td>Valdivia</td>\n",
       "      <td>pm25</td>\n",
       "      <td>µg/m³</td>\n",
       "      <td>21.00</td>\n",
       "    </tr>\n",
       "    <tr>\n",
       "      <th>3</th>\n",
       "      <td>Valdivia</td>\n",
       "      <td>{'latitude': -39.831316104673, 'longitude': -7...</td>\n",
       "      <td>CL</td>\n",
       "      <td>{'utc': '2018-10-30T00:00:00.000Z', 'local': '...</td>\n",
       "      <td>Valdivia</td>\n",
       "      <td>pm10</td>\n",
       "      <td>µg/m³</td>\n",
       "      <td>43.00</td>\n",
       "    </tr>\n",
       "    <tr>\n",
       "      <th>4</th>\n",
       "      <td>Valdivia</td>\n",
       "      <td>{'latitude': -39.831316104673, 'longitude': -7...</td>\n",
       "      <td>CL</td>\n",
       "      <td>{'utc': '2018-10-29T23:00:00.000Z', 'local': '...</td>\n",
       "      <td>Valdivia</td>\n",
       "      <td>so2</td>\n",
       "      <td>µg/m³</td>\n",
       "      <td>2.59</td>\n",
       "    </tr>\n",
       "  </tbody>\n",
       "</table>\n",
       "</div>"
      ],
      "text/plain": [
       "       city                                        coordinates country  \\\n",
       "0  Valdivia  {'latitude': -39.831316104673, 'longitude': -7...      CL   \n",
       "1  Valdivia  {'latitude': -39.831316104673, 'longitude': -7...      CL   \n",
       "2  Valdivia  {'latitude': -39.831316104673, 'longitude': -7...      CL   \n",
       "3  Valdivia  {'latitude': -39.831316104673, 'longitude': -7...      CL   \n",
       "4  Valdivia  {'latitude': -39.831316104673, 'longitude': -7...      CL   \n",
       "\n",
       "                                                date  location parameter  \\\n",
       "0  {'utc': '2018-10-30T00:00:00.000Z', 'local': '...  Valdivia       so2   \n",
       "1  {'utc': '2018-10-30T00:00:00.000Z', 'local': '...  Valdivia        co   \n",
       "2  {'utc': '2018-10-30T00:00:00.000Z', 'local': '...  Valdivia      pm25   \n",
       "3  {'utc': '2018-10-30T00:00:00.000Z', 'local': '...  Valdivia      pm10   \n",
       "4  {'utc': '2018-10-29T23:00:00.000Z', 'local': '...  Valdivia       so2   \n",
       "\n",
       "    unit   value  \n",
       "0  µg/m³    2.71  \n",
       "1  µg/m³  565.81  \n",
       "2  µg/m³   21.00  \n",
       "3  µg/m³   43.00  \n",
       "4  µg/m³    2.59  "
      ]
     },
     "execution_count": 16,
     "metadata": {},
     "output_type": "execute_result"
    }
   ],
   "source": [
    "import pandas as pd\n",
    "\n",
    "valdivia_df = pd.DataFrame(data['results'])\n",
    "#Mostramos los 10 primeros resultados\n",
    "valdivia_df[0:5] #equivalente a: valdivia_df.head(10)"
   ]
  },
  {
   "cell_type": "markdown",
   "metadata": {},
   "source": [
    "Las columnas <code>coordinates</code> y <code>date</code> contienen valor de tipo objeto JSON. Para evitar tener problema a continuación con estos valores, normalizamos el dataframe:"
   ]
  },
  {
   "cell_type": "code",
   "execution_count": 17,
   "metadata": {},
   "outputs": [
    {
     "data": {
      "text/html": [
       "<div>\n",
       "<style scoped>\n",
       "    .dataframe tbody tr th:only-of-type {\n",
       "        vertical-align: middle;\n",
       "    }\n",
       "\n",
       "    .dataframe tbody tr th {\n",
       "        vertical-align: top;\n",
       "    }\n",
       "\n",
       "    .dataframe thead th {\n",
       "        text-align: right;\n",
       "    }\n",
       "</style>\n",
       "<table border=\"1\" class=\"dataframe\">\n",
       "  <thead>\n",
       "    <tr style=\"text-align: right;\">\n",
       "      <th></th>\n",
       "      <th>city</th>\n",
       "      <th>coordinates.latitude</th>\n",
       "      <th>coordinates.longitude</th>\n",
       "      <th>country</th>\n",
       "      <th>date.local</th>\n",
       "      <th>date.utc</th>\n",
       "      <th>location</th>\n",
       "      <th>parameter</th>\n",
       "      <th>unit</th>\n",
       "      <th>value</th>\n",
       "    </tr>\n",
       "  </thead>\n",
       "  <tbody>\n",
       "    <tr>\n",
       "      <th>0</th>\n",
       "      <td>Valdivia</td>\n",
       "      <td>-39.831316</td>\n",
       "      <td>-73.228513</td>\n",
       "      <td>CL</td>\n",
       "      <td>2018-10-29T21:00:00-03:00</td>\n",
       "      <td>2018-10-30T00:00:00.000Z</td>\n",
       "      <td>Valdivia</td>\n",
       "      <td>so2</td>\n",
       "      <td>µg/m³</td>\n",
       "      <td>2.71</td>\n",
       "    </tr>\n",
       "    <tr>\n",
       "      <th>1</th>\n",
       "      <td>Valdivia</td>\n",
       "      <td>-39.831316</td>\n",
       "      <td>-73.228513</td>\n",
       "      <td>CL</td>\n",
       "      <td>2018-10-29T21:00:00-03:00</td>\n",
       "      <td>2018-10-30T00:00:00.000Z</td>\n",
       "      <td>Valdivia</td>\n",
       "      <td>co</td>\n",
       "      <td>µg/m³</td>\n",
       "      <td>565.81</td>\n",
       "    </tr>\n",
       "    <tr>\n",
       "      <th>2</th>\n",
       "      <td>Valdivia</td>\n",
       "      <td>-39.831316</td>\n",
       "      <td>-73.228513</td>\n",
       "      <td>CL</td>\n",
       "      <td>2018-10-29T21:00:00-03:00</td>\n",
       "      <td>2018-10-30T00:00:00.000Z</td>\n",
       "      <td>Valdivia</td>\n",
       "      <td>pm25</td>\n",
       "      <td>µg/m³</td>\n",
       "      <td>21.00</td>\n",
       "    </tr>\n",
       "    <tr>\n",
       "      <th>3</th>\n",
       "      <td>Valdivia</td>\n",
       "      <td>-39.831316</td>\n",
       "      <td>-73.228513</td>\n",
       "      <td>CL</td>\n",
       "      <td>2018-10-29T21:00:00-03:00</td>\n",
       "      <td>2018-10-30T00:00:00.000Z</td>\n",
       "      <td>Valdivia</td>\n",
       "      <td>pm10</td>\n",
       "      <td>µg/m³</td>\n",
       "      <td>43.00</td>\n",
       "    </tr>\n",
       "    <tr>\n",
       "      <th>4</th>\n",
       "      <td>Valdivia</td>\n",
       "      <td>-39.831316</td>\n",
       "      <td>-73.228513</td>\n",
       "      <td>CL</td>\n",
       "      <td>2018-10-29T20:00:00-03:00</td>\n",
       "      <td>2018-10-29T23:00:00.000Z</td>\n",
       "      <td>Valdivia</td>\n",
       "      <td>so2</td>\n",
       "      <td>µg/m³</td>\n",
       "      <td>2.59</td>\n",
       "    </tr>\n",
       "  </tbody>\n",
       "</table>\n",
       "</div>"
      ],
      "text/plain": [
       "       city  coordinates.latitude  coordinates.longitude country  \\\n",
       "0  Valdivia            -39.831316             -73.228513      CL   \n",
       "1  Valdivia            -39.831316             -73.228513      CL   \n",
       "2  Valdivia            -39.831316             -73.228513      CL   \n",
       "3  Valdivia            -39.831316             -73.228513      CL   \n",
       "4  Valdivia            -39.831316             -73.228513      CL   \n",
       "\n",
       "                  date.local                  date.utc  location parameter  \\\n",
       "0  2018-10-29T21:00:00-03:00  2018-10-30T00:00:00.000Z  Valdivia       so2   \n",
       "1  2018-10-29T21:00:00-03:00  2018-10-30T00:00:00.000Z  Valdivia        co   \n",
       "2  2018-10-29T21:00:00-03:00  2018-10-30T00:00:00.000Z  Valdivia      pm25   \n",
       "3  2018-10-29T21:00:00-03:00  2018-10-30T00:00:00.000Z  Valdivia      pm10   \n",
       "4  2018-10-29T20:00:00-03:00  2018-10-29T23:00:00.000Z  Valdivia       so2   \n",
       "\n",
       "    unit   value  \n",
       "0  µg/m³    2.71  \n",
       "1  µg/m³  565.81  \n",
       "2  µg/m³   21.00  \n",
       "3  µg/m³   43.00  \n",
       "4  µg/m³    2.59  "
      ]
     },
     "execution_count": 17,
     "metadata": {},
     "output_type": "execute_result"
    }
   ],
   "source": [
    "#Fase de normalización que permite transformar un objeto JSON en columnas\n",
    "from pandas.io.json import json_normalize\n",
    "data_normalized=json_normalize(data['results'])\n",
    "\n",
    "valdivia_df = pd.DataFrame(data_normalized)\n",
    "#Mostramos los 10 primeros resultados\n",
    "valdivia_df.head(5)"
   ]
  },
  {
   "cell_type": "markdown",
   "metadata": {},
   "source": [
    "Como la clausula \"SELECT\" en SQL, Pandas permite selectionnar las columnas que se quiere mostrar:"
   ]
  },
  {
   "cell_type": "code",
   "execution_count": 19,
   "metadata": {},
   "outputs": [
    {
     "data": {
      "text/html": [
       "<div>\n",
       "<style scoped>\n",
       "    .dataframe tbody tr th:only-of-type {\n",
       "        vertical-align: middle;\n",
       "    }\n",
       "\n",
       "    .dataframe tbody tr th {\n",
       "        vertical-align: top;\n",
       "    }\n",
       "\n",
       "    .dataframe thead th {\n",
       "        text-align: right;\n",
       "    }\n",
       "</style>\n",
       "<table border=\"1\" class=\"dataframe\">\n",
       "  <thead>\n",
       "    <tr style=\"text-align: right;\">\n",
       "      <th></th>\n",
       "      <th>city</th>\n",
       "      <th>country</th>\n",
       "      <th>date</th>\n",
       "      <th>parameter</th>\n",
       "      <th>value</th>\n",
       "    </tr>\n",
       "  </thead>\n",
       "  <tbody>\n",
       "    <tr>\n",
       "      <th>0</th>\n",
       "      <td>Valdivia</td>\n",
       "      <td>CL</td>\n",
       "      <td>2018-10-29T21:00:00-03:00</td>\n",
       "      <td>so2</td>\n",
       "      <td>2.71</td>\n",
       "    </tr>\n",
       "    <tr>\n",
       "      <th>1</th>\n",
       "      <td>Valdivia</td>\n",
       "      <td>CL</td>\n",
       "      <td>2018-10-29T21:00:00-03:00</td>\n",
       "      <td>co</td>\n",
       "      <td>565.81</td>\n",
       "    </tr>\n",
       "    <tr>\n",
       "      <th>2</th>\n",
       "      <td>Valdivia</td>\n",
       "      <td>CL</td>\n",
       "      <td>2018-10-29T21:00:00-03:00</td>\n",
       "      <td>pm25</td>\n",
       "      <td>21.00</td>\n",
       "    </tr>\n",
       "    <tr>\n",
       "      <th>3</th>\n",
       "      <td>Valdivia</td>\n",
       "      <td>CL</td>\n",
       "      <td>2018-10-29T21:00:00-03:00</td>\n",
       "      <td>pm10</td>\n",
       "      <td>43.00</td>\n",
       "    </tr>\n",
       "    <tr>\n",
       "      <th>4</th>\n",
       "      <td>Valdivia</td>\n",
       "      <td>CL</td>\n",
       "      <td>2018-10-29T20:00:00-03:00</td>\n",
       "      <td>so2</td>\n",
       "      <td>2.59</td>\n",
       "    </tr>\n",
       "  </tbody>\n",
       "</table>\n",
       "</div>"
      ],
      "text/plain": [
       "       city country                       date parameter   value\n",
       "0  Valdivia      CL  2018-10-29T21:00:00-03:00       so2    2.71\n",
       "1  Valdivia      CL  2018-10-29T21:00:00-03:00        co  565.81\n",
       "2  Valdivia      CL  2018-10-29T21:00:00-03:00      pm25   21.00\n",
       "3  Valdivia      CL  2018-10-29T21:00:00-03:00      pm10   43.00\n",
       "4  Valdivia      CL  2018-10-29T20:00:00-03:00       so2    2.59"
      ]
     },
     "execution_count": 19,
     "metadata": {},
     "output_type": "execute_result"
    }
   ],
   "source": [
    "valdivia_df2=valdivia_df[['city','country','date.local','parameter','value']]\n",
    "#Renombrar la columna \"date.local\" para simplificar\n",
    "valdivia_df2 = valdivia_df2.rename(columns={'date.local': 'date'})\n",
    "valdivia_df2.head(5)"
   ]
  },
  {
   "cell_type": "markdown",
   "metadata": {},
   "source": [
    "Como en SQL, Pandas permite ordenar los resultados (el método <code>sort_values</code> es equivalente al <code>order by</code> en SQL). En nuestro ejemplo, queremos ordenar el resultado según la fecha."
   ]
  },
  {
   "cell_type": "code",
   "execution_count": 20,
   "metadata": {},
   "outputs": [
    {
     "data": {
      "text/html": [
       "<div>\n",
       "<style scoped>\n",
       "    .dataframe tbody tr th:only-of-type {\n",
       "        vertical-align: middle;\n",
       "    }\n",
       "\n",
       "    .dataframe tbody tr th {\n",
       "        vertical-align: top;\n",
       "    }\n",
       "\n",
       "    .dataframe thead th {\n",
       "        text-align: right;\n",
       "    }\n",
       "</style>\n",
       "<table border=\"1\" class=\"dataframe\">\n",
       "  <thead>\n",
       "    <tr style=\"text-align: right;\">\n",
       "      <th></th>\n",
       "      <th>city</th>\n",
       "      <th>country</th>\n",
       "      <th>date</th>\n",
       "      <th>parameter</th>\n",
       "      <th>value</th>\n",
       "    </tr>\n",
       "  </thead>\n",
       "  <tbody>\n",
       "    <tr>\n",
       "      <th>8</th>\n",
       "      <td>Valdivia</td>\n",
       "      <td>CL</td>\n",
       "      <td>2018-10-29T19:00:00-03:00</td>\n",
       "      <td>so2</td>\n",
       "      <td>2.47</td>\n",
       "    </tr>\n",
       "    <tr>\n",
       "      <th>9</th>\n",
       "      <td>Valdivia</td>\n",
       "      <td>CL</td>\n",
       "      <td>2018-10-29T19:00:00-03:00</td>\n",
       "      <td>pm10</td>\n",
       "      <td>21.00</td>\n",
       "    </tr>\n",
       "    <tr>\n",
       "      <th>4</th>\n",
       "      <td>Valdivia</td>\n",
       "      <td>CL</td>\n",
       "      <td>2018-10-29T20:00:00-03:00</td>\n",
       "      <td>so2</td>\n",
       "      <td>2.59</td>\n",
       "    </tr>\n",
       "    <tr>\n",
       "      <th>5</th>\n",
       "      <td>Valdivia</td>\n",
       "      <td>CL</td>\n",
       "      <td>2018-10-29T20:00:00-03:00</td>\n",
       "      <td>co</td>\n",
       "      <td>305.49</td>\n",
       "    </tr>\n",
       "    <tr>\n",
       "      <th>6</th>\n",
       "      <td>Valdivia</td>\n",
       "      <td>CL</td>\n",
       "      <td>2018-10-29T20:00:00-03:00</td>\n",
       "      <td>pm10</td>\n",
       "      <td>25.00</td>\n",
       "    </tr>\n",
       "  </tbody>\n",
       "</table>\n",
       "</div>"
      ],
      "text/plain": [
       "       city country                       date parameter   value\n",
       "8  Valdivia      CL  2018-10-29T19:00:00-03:00       so2    2.47\n",
       "9  Valdivia      CL  2018-10-29T19:00:00-03:00      pm10   21.00\n",
       "4  Valdivia      CL  2018-10-29T20:00:00-03:00       so2    2.59\n",
       "5  Valdivia      CL  2018-10-29T20:00:00-03:00        co  305.49\n",
       "6  Valdivia      CL  2018-10-29T20:00:00-03:00      pm10   25.00"
      ]
     },
     "execution_count": 20,
     "metadata": {},
     "output_type": "execute_result"
    }
   ],
   "source": [
    "valdivia_df2.sort_values(['date'],ascending=True).head(5)"
   ]
  },
  {
   "cell_type": "markdown",
   "metadata": {},
   "source": [
    "La API devuelve varias medidas cada hora, por un tema de simplicidad, vamos a generalizar los datos para tener solamente 1 valor por hora y por tipo de particulas. Como en SQL, Pandas tiene un método para agrupar valores. En nuestro ejemplo, agrupamos según el tipo de particula (<code>parameter</code>) y la fecha (<code>date</code>), y conservarmos el promedio de las medidas."
   ]
  },
  {
   "cell_type": "code",
   "execution_count": 21,
   "metadata": {},
   "outputs": [
    {
     "data": {
      "text/html": [
       "<div>\n",
       "<style scoped>\n",
       "    .dataframe tbody tr th:only-of-type {\n",
       "        vertical-align: middle;\n",
       "    }\n",
       "\n",
       "    .dataframe tbody tr th {\n",
       "        vertical-align: top;\n",
       "    }\n",
       "\n",
       "    .dataframe thead th {\n",
       "        text-align: right;\n",
       "    }\n",
       "</style>\n",
       "<table border=\"1\" class=\"dataframe\">\n",
       "  <thead>\n",
       "    <tr style=\"text-align: right;\">\n",
       "      <th></th>\n",
       "      <th>parameter</th>\n",
       "      <th>date</th>\n",
       "      <th>value</th>\n",
       "    </tr>\n",
       "  </thead>\n",
       "  <tbody>\n",
       "    <tr>\n",
       "      <th>0</th>\n",
       "      <td>co</td>\n",
       "      <td>2018-10-29T20:00:00-03:00</td>\n",
       "      <td>305.49</td>\n",
       "    </tr>\n",
       "    <tr>\n",
       "      <th>1</th>\n",
       "      <td>co</td>\n",
       "      <td>2018-10-29T21:00:00-03:00</td>\n",
       "      <td>565.81</td>\n",
       "    </tr>\n",
       "    <tr>\n",
       "      <th>2</th>\n",
       "      <td>pm10</td>\n",
       "      <td>2018-10-29T19:00:00-03:00</td>\n",
       "      <td>21.00</td>\n",
       "    </tr>\n",
       "    <tr>\n",
       "      <th>3</th>\n",
       "      <td>pm10</td>\n",
       "      <td>2018-10-29T20:00:00-03:00</td>\n",
       "      <td>25.00</td>\n",
       "    </tr>\n",
       "    <tr>\n",
       "      <th>4</th>\n",
       "      <td>pm10</td>\n",
       "      <td>2018-10-29T21:00:00-03:00</td>\n",
       "      <td>43.00</td>\n",
       "    </tr>\n",
       "  </tbody>\n",
       "</table>\n",
       "</div>"
      ],
      "text/plain": [
       "  parameter                       date   value\n",
       "0        co  2018-10-29T20:00:00-03:00  305.49\n",
       "1        co  2018-10-29T21:00:00-03:00  565.81\n",
       "2      pm10  2018-10-29T19:00:00-03:00   21.00\n",
       "3      pm10  2018-10-29T20:00:00-03:00   25.00\n",
       "4      pm10  2018-10-29T21:00:00-03:00   43.00"
      ]
     },
     "execution_count": 21,
     "metadata": {},
     "output_type": "execute_result"
    }
   ],
   "source": [
    "import numpy as np\n",
    "\n",
    "valdivia_df3=valdivia_df2.groupby(['parameter','date']).agg(np.average)\n",
    "valdivia_df3=valdivia_df3.reset_index()\n",
    "valdivia_df3.head(5)"
   ]
  },
  {
   "cell_type": "markdown",
   "metadata": {},
   "source": [
    "Finalmente, Pandas tambien permite filtrar las filas de una tabla (equivalente del <code>WHERE</code> en SQL). En nuestro ejemplo, creamos 4 dataframes que contienen los datos por cada tipo de particula (co, pm10, pm25 y so2)."
   ]
  },
  {
   "cell_type": "code",
   "execution_count": 22,
   "metadata": {},
   "outputs": [
    {
     "data": {
      "text/html": [
       "<div>\n",
       "<style scoped>\n",
       "    .dataframe tbody tr th:only-of-type {\n",
       "        vertical-align: middle;\n",
       "    }\n",
       "\n",
       "    .dataframe tbody tr th {\n",
       "        vertical-align: top;\n",
       "    }\n",
       "\n",
       "    .dataframe thead th {\n",
       "        text-align: right;\n",
       "    }\n",
       "</style>\n",
       "<table border=\"1\" class=\"dataframe\">\n",
       "  <thead>\n",
       "    <tr style=\"text-align: right;\">\n",
       "      <th></th>\n",
       "      <th>parameter</th>\n",
       "      <th>date</th>\n",
       "      <th>value</th>\n",
       "    </tr>\n",
       "  </thead>\n",
       "  <tbody>\n",
       "    <tr>\n",
       "      <th>0</th>\n",
       "      <td>co</td>\n",
       "      <td>2018-10-29T20:00:00-03:00</td>\n",
       "      <td>305.49</td>\n",
       "    </tr>\n",
       "    <tr>\n",
       "      <th>1</th>\n",
       "      <td>co</td>\n",
       "      <td>2018-10-29T21:00:00-03:00</td>\n",
       "      <td>565.81</td>\n",
       "    </tr>\n",
       "  </tbody>\n",
       "</table>\n",
       "</div>"
      ],
      "text/plain": [
       "  parameter                       date   value\n",
       "0        co  2018-10-29T20:00:00-03:00  305.49\n",
       "1        co  2018-10-29T21:00:00-03:00  565.81"
      ]
     },
     "execution_count": 22,
     "metadata": {},
     "output_type": "execute_result"
    }
   ],
   "source": [
    "valdivia_df_co=valdivia_df3[(valdivia_df3.parameter=='co')]\n",
    "valdivia_df_pm10=valdivia_df3[(valdivia_df3.parameter=='pm10')]\n",
    "valdivia_df_pm25=valdivia_df3[(valdivia_df3.parameter=='pm25')]\n",
    "valdivia_df_so2=valdivia_df3[(valdivia_df3.parameter=='so2')]\n",
    "valdivia_df_co.head()"
   ]
  },
  {
   "cell_type": "markdown",
   "metadata": {},
   "source": [
    "Para más detalles sobre la API de Pandas, se puede consultar:\n",
    "\n",
    "- <a href=\"https://www.dataquest.io/blog/pandas-cheat-sheet/\">Pandas cheat sheet</a>\n",
    "\n",
    "- <a href=\"https://pandas.pydata.org/pandas-docs/stable/\">Documentación de Pandas</a>"
   ]
  },
  {
   "cell_type": "markdown",
   "metadata": {},
   "source": [
    "Una vez que tenemos nuestros datos listos (o \"preprocesados\"), a menudo se necesita visualizar estos datos de alguna manera. En Python, existen varias librerías de visualización de datos, entre las cuales las más utilizadas son: MatplotLib, Plotly o Geoplotlib. Ejemplo de visualización realizada con Geoplotlib.\n",
    "\n",
    "<img src=\"geoplotlib.png\"></img>\n",
    "\n",
    "\n"
   ]
  },
  {
   "cell_type": "markdown",
   "metadata": {},
   "source": [
    "Como primer enfoque, a continuación vamos simplemente visualizar un Line Chart mostrando la evolución de la cantidad de CO en Valdivia el día 28 de octubre:"
   ]
  },
  {
   "cell_type": "code",
   "execution_count": 16,
   "metadata": {},
   "outputs": [
    {
     "data": {
      "text/plain": [
       "[<matplotlib.lines.Line2D at 0x7fab31500c88>]"
      ]
     },
     "execution_count": 16,
     "metadata": {},
     "output_type": "execute_result"
    },
    {
     "data": {
      "image/png": "[encoded data removed]",
      "text/plain": [
       "<Figure size 1080x432 with 1 Axes>"
      ]
     },
     "metadata": {},
     "output_type": "display_data"
    }
   ],
   "source": [
    "import matplotlib.pyplot as plt\n",
    "\n",
    "#Definición del tamaño de la figura\n",
    "plt.figure(figsize=(15,6))\n",
    "\n",
    "#Definición de los datos que sirven de eje X e Y\n",
    "x_co = valdivia_df_co['date']\n",
    "y_co = valdivia_df_co['value']\n",
    "\n",
    "#Leyenda\n",
    "plt.xlabel('Date')\n",
    "plt.ylabel('Cantidad de CO')\n",
    "plt.title('Cantidad de CO en Valdivia el día 28 de octubre')\n",
    "plt.xticks(rotation=90)\n",
    "\n",
    "#Dibujar la visualización\n",
    "plt.plot(x_co,y_co)"
   ]
  },
  {
   "cell_type": "markdown",
   "metadata": {},
   "source": [
    "<b>Ejercicio:</b>\n",
    "\n",
    "-1) Conectarse a la API OpenAQ para saber cuáles los lugares en Chile dónde se recopila medidas de contaminación.\n",
    "\n",
    "-2) Crear una visualización: Por ejemplo, mostrar en un histograma, cuántas mediciones hay por cada lugar en Chile.\n",
    "\n",
    "-3) Opcional: Mostrar en un mapa de Chile, los lugares dónde se recopila medidades de contaminación."
   ]
  },
  {
   "cell_type": "code",
   "execution_count": 8,
   "metadata": {},
   "outputs": [
    {
     "data": {
      "text/html": [
       "<div>\n",
       "<style scoped>\n",
       "    .dataframe tbody tr th:only-of-type {\n",
       "        vertical-align: middle;\n",
       "    }\n",
       "\n",
       "    .dataframe tbody tr th {\n",
       "        vertical-align: top;\n",
       "    }\n",
       "\n",
       "    .dataframe thead th {\n",
       "        text-align: right;\n",
       "    }\n",
       "</style>\n",
       "<table border=\"1\" class=\"dataframe\">\n",
       "  <thead>\n",
       "    <tr style=\"text-align: right;\">\n",
       "      <th></th>\n",
       "      <th>city</th>\n",
       "    </tr>\n",
       "  </thead>\n",
       "  <tbody>\n",
       "    <tr>\n",
       "      <th>0</th>\n",
       "      <td>Huasco</td>\n",
       "    </tr>\n",
       "    <tr>\n",
       "      <th>1</th>\n",
       "      <td>21 de mayo</td>\n",
       "    </tr>\n",
       "    <tr>\n",
       "      <th>2</th>\n",
       "      <td>Puerto Montt</td>\n",
       "    </tr>\n",
       "    <tr>\n",
       "      <th>3</th>\n",
       "      <td>Alto Hospicio</td>\n",
       "    </tr>\n",
       "    <tr>\n",
       "      <th>4</th>\n",
       "      <td>Andacollo</td>\n",
       "    </tr>\n",
       "    <tr>\n",
       "      <th>5</th>\n",
       "      <td>Antofagasta</td>\n",
       "    </tr>\n",
       "    <tr>\n",
       "      <th>6</th>\n",
       "      <td>Arica</td>\n",
       "    </tr>\n",
       "    <tr>\n",
       "      <th>7</th>\n",
       "      <td>Curanilahue</td>\n",
       "    </tr>\n",
       "    <tr>\n",
       "      <th>8</th>\n",
       "      <td>Curanilahue</td>\n",
       "    </tr>\n",
       "    <tr>\n",
       "      <th>9</th>\n",
       "      <td>Bocatoma</td>\n",
       "    </tr>\n",
       "  </tbody>\n",
       "</table>\n",
       "</div>"
      ],
      "text/plain": [
       "            city\n",
       "0         Huasco\n",
       "1     21 de mayo\n",
       "2   Puerto Montt\n",
       "3  Alto Hospicio\n",
       "4      Andacollo\n",
       "5    Antofagasta\n",
       "6          Arica\n",
       "7    Curanilahue\n",
       "8    Curanilahue\n",
       "9       Bocatoma"
      ]
     },
     "execution_count": 8,
     "metadata": {},
     "output_type": "execute_result"
    }
   ],
   "source": [
    "#1)\n",
    "import requests\n",
    "import pandas as pd\n",
    "from pandas.io.json import json_normalize\n",
    "# api-endpoint\n",
    "endpoint = \"https://api.openaq.org/v1/locations\"\n",
    "parameters = \"?country=CL\"\n",
    "URL = endpoint+parameters\n",
    "\n",
    "r = requests.get(url = URL)\n",
    "\n",
    "# extracting data in json format\n",
    "data = r.json()\n",
    "\n",
    "data_normalized=json_normalize(data['results'])\n",
    "\n",
    "valdivia_df = pd.DataFrame(data_normalized)\n",
    "\n",
    "cities=valdivia_df[['city']]\n",
    "#Mostramos los 10 primeros resultados\n",
    "cities.head(10)\n",
    "\n"
   ]
  },
  {
   "cell_type": "code",
   "execution_count": 11,
   "metadata": {},
   "outputs": [
    {
     "data": {
      "text/plain": [
       "<Container object of 100 artists>"
      ]
     },
     "execution_count": 11,
     "metadata": {},
     "output_type": "execute_result"
    },
    {
     "data": {
      "image/png": "[encoded data removed]",
      "text/plain": [
       "<matplotlib.figure.Figure at 0x7f6dc7f4b208>"
      ]
     },
     "metadata": {
      "needs_background": "light"
     },
     "output_type": "display_data"
    }
   ],
   "source": [
    "# 2)\n",
    "\n",
    "import matplotlib.pyplot as plt\n",
    "\n",
    "#Definición del tamaño de la figura\n",
    "plt.figure(figsize=(15,6))\n",
    "\n",
    "#Definición de los datos que sirven de eje X e Y\n",
    "x_c = valdivia_df['city']\n",
    "y_c = valdivia_df['count']\n",
    "\n",
    "#Leyenda\n",
    "plt.xlabel('Ciudad')\n",
    "plt.ylabel('Cantidad de muestras')\n",
    "plt.title('Cantidad de muestras por ciudad')\n",
    "plt.xticks(rotation=90)\n",
    "\n",
    "#Dibujar la visualización\n",
    "plt.bar(x_c,y_c)"
   ]
  },
  {
   "cell_type": "markdown",
   "metadata": {},
   "source": [
    "# 2. Utilizar el SGBD no relacional Mongo "
   ]
  },
  {
   "cell_type": "markdown",
   "metadata": {},
   "source": [
    "MongoDB es un SGBD creado en 2009 (en 2018: version 4). Es un SGBD que no implementa el modelo Relacional (Tabla/Tupla/Claves, datos atómicos) como MySQL o PostgreSQL. La idea inicial de Mongo es ofrecer una solución simple para almacenar objetos JSON.\n",
    "\n",
    "En Mongo, los conceptos claves son:\n",
    "- los <b>Documentos</b>: un documento corresponde a objeto JSON.\n",
    "- las <b>Colecciones</b>: una colección es un conjunto de documentos. Nota Bene: en una colección Mongo, los documentos pueden tener una estructura distinta.\n",
    "\n",
    "En Mongo, no existen directamente los conceptos de Tabla, Tupla o Claves primerias/foraneas. Sin embargo, podemos ver una equivalencia entre Tabla y Colección, y entre Tupla y Documento."
   ]
  },
  {
   "cell_type": "markdown",
   "metadata": {},
   "source": [
    "Verificar que Mongo está instalado correctamente ejecutando:\n",
    "- el programa principal del SGBD: <code>mongod &</code> desde un terminal\n",
    "- el programa CLI (Command Line Interface): <code>mongo</code>\n",
    "\n",
    "Vamos a interactuar con Mongo desde un entorno Python, por lo tanto utilizaremos el driver <code>PyMongo</code> (que instalar).\n"
   ]
  },
  {
   "cell_type": "code",
   "execution_count": 24,
   "metadata": {},
   "outputs": [],
   "source": [
    "import pymongo\n",
    "from pymongo import MongoClient\n",
    "\n",
    "#Nos conectamos a la instancia de Mongo local, puerto 27017\n",
    "client = MongoClient('localhost', 27017)\n",
    "\n",
    "#Nos conectamos a la BD 'notebook5_db'\n",
    "db = client['notebook5_db']\n",
    "\n",
    "#Dentro de la BD, creamos una nueva colección llamada 'personas'\n",
    "collection = db['personas']"
   ]
  },
  {
   "cell_type": "markdown",
   "metadata": {},
   "source": [
    "A continuación, mostramos un ejemplo de como insertar nuevos documentos en una colección:"
   ]
  },
  {
   "cell_type": "code",
   "execution_count": 25,
   "metadata": {},
   "outputs": [
    {
     "data": {
      "text/plain": [
       "<pymongo.results.InsertManyResult at 0x7fe40cc1d248>"
      ]
     },
     "execution_count": 25,
     "metadata": {},
     "output_type": "execute_result"
    }
   ],
   "source": [
    "#Creamos un nuevo documento\n",
    "\n",
    "aDocument = {\"Nombre\":\"Juan\", \"Edad\":23, \"Asignaturas\":[\"INFO261\", \"INFO267\", \"INFO268\"] }\n",
    "otherDocument = {\"Nombre\":\"Maria\", \"Edad\":24, \"Asignaturas\":[\"INFO261\", \"INFO267\", \"INFO268\", \"INFO331\"] }\n",
    "\n",
    "collection.insert_many([aDocument,otherDocument])"
   ]
  },
  {
   "cell_type": "markdown",
   "metadata": {},
   "source": [
    "Un ejemplo de como consultar nuestra colección agregando un filtro para ver solamente los documentos que tienen un campo \"Edad\"=23."
   ]
  },
  {
   "cell_type": "code",
   "execution_count": 26,
   "metadata": {},
   "outputs": [
    {
     "name": "stdout",
     "output_type": "stream",
     "text": [
      "{'Asignaturas': ['INFO261', 'INFO267', 'INFO268'],\n",
      " 'Edad': 23,\n",
      " 'Nombre': 'Juan',\n",
      " '_id': ObjectId('5beb8873e2a0514a646da9e4')}\n",
      "{'Asignaturas': ['INFO261', 'INFO267', 'INFO268'],\n",
      " 'Edad': 23,\n",
      " 'Nombre': 'Juan',\n",
      " '_id': ObjectId('5c2eb30ee2a051324a9f1ba0')}\n",
      "{'Asignaturas': ['INFO261', 'INFO267', 'INFO268'],\n",
      " 'Edad': 23,\n",
      " 'Nombre': 'Juan',\n",
      " '_id': ObjectId('5c2ebbe7e2a051324a9f1baa')}\n"
     ]
    }
   ],
   "source": [
    "from pprint import pprint\n",
    "\n",
    "for doc in collection.find({\"Edad\":23}):\n",
    "    pprint(doc)"
   ]
  },
  {
   "cell_type": "markdown",
   "metadata": {},
   "source": [
    "Para más detalles sobre la API de Mongo y PyMongo para hacer consultas:\n",
    "- http://api.mongodb.com/python/current/tutorial.html\n",
    "- https://docs.mongodb.com/manual/crud/"
   ]
  },
  {
   "cell_type": "markdown",
   "metadata": {},
   "source": [
    "<b>Ejercicio</b>\n",
    "- crear/borrar/modificar documentos desde Mongo CLI y desde PyMongo \n",
    "- realizar algunas consultas básicas"
   ]
  },
  {
   "cell_type": "markdown",
   "metadata": {},
   "source": [
    "# 3. Trabajo práctico 1\n",
    "\n",
    "1. En el marco de un proyecto \"Smart City Valdivia\", se desea almacenar mediciones de particulas en el aire en Valdivia a partir de la API OpenAQ. Estos datos se cruzaron a posteriori con datos meteorologicos de Valdivia (por ejemplo desde la API https://openweathermap.org/api). Diseñar un modelo Entidad-Asociación que permita almacenar esta información y extenderla a otras ciudades del sur de Chile.\n",
    "\n",
    "2. Proponer un modelo de documentos JSON para almacenar está información en Mongo.\n",
    "\n",
    "3. Conectarse a la API OpenAQ para empezar a llenar su base de datos Mongo.\n",
    "\n",
    "\n",
    "# 4. Trabajo práctico 2\n",
    "\n",
    "1. Conectarse a la API de Twitter.\n",
    "\n",
    "2. Recopilar una lista de usuarios que utilizan el hashtag #ValdiviaCL en sus tweets.\n",
    "\n",
    "\n"
   ]
  },
  {
   "cell_type": "code",
   "execution_count": 34,
   "metadata": {},
   "outputs": [
    {
     "name": "stdout",
     "output_type": "stream",
     "text": [
      "Collection(Database(MongoClient(host=['localhost:27017'], document_class=dict, tz_aware=False, connect=True), 'notebook5_climavaldivia'), 'calidad_aire')\n"
     ]
    }
   ],
   "source": [
    "#Crear la base de datos y realizar consultas\n",
    "import pymongo\n",
    "import requests\n",
    "from pymongo import MongoClient\n",
    "endpoint = \"https://api.openaq.org/v1/measurements\"\n",
    "parameters = \"?country=CL&city=Valdivia&include_fields=&limit=10&date_from=2018-10-28&date_to=2018-10-30\"\n",
    "URL = endpoint+parameters\n",
    "r = requests.get(url = URL) \n",
    "data = r.json() \n",
    "#print(data)\n",
    "\n",
    "client = MongoClient('localhost', 27017)\n",
    "db = client['notebook5_climavaldivia']\n",
    "\n",
    "collection_ca = db['calidad_aire']\n",
    "collection_c = db['clima']\n",
    "print(collection_ca)"
   ]
  },
  {
   "cell_type": "code",
   "execution_count": null,
   "metadata": {},
   "outputs": [],
   "source": [
    "#Trabajo practico 1\n",
    "\n",
    "\n",
    "{\n",
    "    parametro: String,\n",
    "    valor: Number,\n",
    "    lugar_momento:{\n",
    "        fecha_hora: Date,\n",
    "        nombre_lugar: String,\n",
    "        latitud: Number,\n",
    "        longitud: Number\n",
    "    }\n",
    "}\n",
    "\n",
    "{ temperatura: Number, \n",
    "     estado: String, \n",
    "     agua_caida: Number, \n",
    "     velocidad_viento: Number,\n",
    "     lugar_momento:{ fecha_hora: Date, \n",
    "            nombre_lugar: String, \n",
    "            latitud: Number, \n",
    "            longitud: Number } } "
   ]
  },
  {
   "cell_type": "code",
   "execution_count": 35,
   "metadata": {},
   "outputs": [],
   "source": [
    "#Obtener los datos desde OpenAQ\n",
    "import requests\n",
    "URL = \"https://api.openaq.org/v1/measurements?country=CL&city=Valdivia&location=Valdivia\"\n",
    "r = requests.get(url = URL) \n",
    "data = r.json()"
   ]
  },
  {
   "cell_type": "code",
   "execution_count": 36,
   "metadata": {},
   "outputs": [],
   "source": [
    "#Agregar datos\n",
    "import json\n",
    "for i in data:\n",
    "    for k in data[i]:\n",
    "        if len(k)>7:#Se produce error cuando el largo no es 7, Debe ser porque hay un campo no existente asignado\n",
    "            prueba=k\n",
    "            locat=prueba['location']\n",
    "            parametr=prueba['parameter'] \n",
    "            lati=prueba['coordinates']['latitude']\n",
    "            longi=prueba['coordinates']['longitude']\n",
    "            val=prueba['value']\n",
    "            dat=prueba['date']['local']\n",
    "\n",
    "            aDocument = {\n",
    "                \"Parametro\": parametr,\n",
    "                \"Valor\": val,\n",
    "                \"Lugar_Momento\": {\n",
    "                    \"fecha_hora\": dat,\n",
    "                    \"nombre_lugar\": locat,\n",
    "                    \"latitud\": lati,\n",
    "                    \"longitud\": longi\n",
    "                }\n",
    "            }\n",
    "\n",
    "            collection_ca.insert_many([aDocument])"
   ]
  },
  {
   "cell_type": "markdown",
   "metadata": {},
   "source": [
    "#trabajo práctico 2"
   ]
  },
  {
   "cell_type": "code",
   "execution_count": 31,
   "metadata": {},
   "outputs": [],
   "source": [
    "import twitter\n",
    "api_key ='AxQ8kTHsD7erTCj6FrcfrRrE1'\n",
    "api_secret_key = 'SwRyNsOIHR4PgJO8XN9SPlzcwLEsk55WezNh3IHqQEsH6Jocvn'\n",
    "\n",
    "access_token = '1071881164804247552-eChmIzHewT6amvYSBv5ybWxYChWnND'\n",
    "\n",
    "access_token_sec= '3BkX5oJSBgtU8kMHctlSC9oJVJIu6wktNzfT9OxnooYH1'\n",
    "\n",
    "api = twitter.Api(\n",
    "        consumer_key = api_key,\n",
    "        consumer_secret = api_secret_key,\n",
    "        access_token_key = access_token,\n",
    "        access_token_secret = access_token_sec)\n",
    "results = api.GetSearch(\n",
    "        raw_query=\"q=twitter%23valdiviacl%20since%3A2019-01-01%20until%3A2019-01-03&\")\n"
   ]
  },
  {
   "cell_type": "code",
   "execution_count": 32,
   "metadata": {},
   "outputs": [
    {
     "name": "stdout",
     "output_type": "stream",
     "text": [
      "{\"created_at\": \"Wed Jan 02 23:58:22 +0000 2019\", \"hashtags\": [{\"text\": \"CaballoDeProa\"}, {\"text\": \"PeterWilliamOHara\"}, {\"text\": \"PlazaDeLaRepublica\"}, {\"text\": \"Valdiviacl\"}], \"id\": 1080614309418414081, \"id_str\": \"1080614309418414081\", \"lang\": \"es\", \"retweet_count\": 5, \"retweeted_status\": {\"created_at\": \"Wed Jan 02 19:12:39 +0000 2019\", \"favorite_count\": 8, \"hashtags\": [{\"text\": \"CaballoDeProa\"}, {\"text\": \"PeterWilliamOHara\"}, {\"text\": \"PlazaDeLaRepublica\"}, {\"text\": \"Valdiviacl\"}], \"id\": 1080542403654795265, \"id_str\": \"1080542403654795265\", \"lang\": \"es\", \"media\": [{\"display_url\": \"pic.twitter.com/3YAxbp78td\", \"expanded_url\": \"https://twitter.com/manuelgallardo/status/1080542403654795265/photo/1\", \"id\": 1080541565427306496, \"media_url\": \"http://pbs.twimg.com/media/Dv7a1CxW0AAaDsS.jpg\", \"media_url_https\": \"https://pbs.twimg.com/media/Dv7a1CxW0AAaDsS.jpg\", \"sizes\": {\"large\": {\"h\": 1024, \"resize\": \"fit\", \"w\": 768}, \"medium\": {\"h\": 1024, \"resize\": \"fit\", \"w\": 768}, \"small\": {\"h\": 680, \"resize\": \"fit\", \"w\": 510}, \"thumb\": {\"h\": 150, \"resize\": \"crop\", \"w\": 150}}, \"type\": \"photo\", \"url\": \"https://t.co/3YAxbp78td\"}], \"retweet_count\": 5, \"source\": \"<a href=\\\"http://twitter.com\\\" rel=\\\"nofollow\\\">Twitter Web Client</a>\", \"text\": \"Buen viaje amigo Pedro Guillermo Jara #CaballoDeProa #PeterWilliamOHara #PlazaDeLaRepublica #Valdiviacl https://t.co/3YAxbp78td\", \"urls\": [], \"user\": {\"created_at\": \"Fri Mar 14 17:51:15 +0000 2008\", \"description\": \"S\\u00f3lido, l\\u00edquido y, en menor medida, gaseoso.\", \"favourites_count\": 406, \"followers_count\": 863, \"friends_count\": 727, \"geo_enabled\": true, \"id\": 14148209, \"id_str\": \"14148209\", \"lang\": \"es\", \"listed_count\": 14, \"location\": \"Puerto Montt, Chile\", \"name\": \"manuel gallardo\", \"profile_background_color\": \"022330\", \"profile_background_image_url\": \"http://abs.twimg.com/images/themes/theme15/bg.png\", \"profile_background_image_url_https\": \"https://abs.twimg.com/images/themes/theme15/bg.png\", \"profile_banner_url\": \"https://pbs.twimg.com/profile_banners/14148209/1437594636\", \"profile_image_url\": \"http://pbs.twimg.com/profile_images/965353484504707072/fUZobmub_normal.jpg\", \"profile_image_url_https\": \"https://pbs.twimg.com/profile_images/965353484504707072/fUZobmub_normal.jpg\", \"profile_link_color\": \"0084B4\", \"profile_sidebar_border_color\": \"A8C7F7\", \"profile_sidebar_fill_color\": \"C0DFEC\", \"profile_text_color\": \"333333\", \"profile_use_background_image\": true, \"screen_name\": \"manuelgallardo\", \"statuses_count\": 9873, \"url\": \"https://t.co/AvIyjvd8JY\"}, \"user_mentions\": []}, \"source\": \"<a href=\\\"http://twitter.com/download/android\\\" rel=\\\"nofollow\\\">Twitter for Android</a>\", \"text\": \"RT @manuelgallardo: Buen viaje amigo Pedro Guillermo Jara #CaballoDeProa #PeterWilliamOHara #PlazaDeLaRepublica #Valdiviacl https://t.co/3Y\\u2026\", \"urls\": [], \"user\": {\"created_at\": \"Fri Feb 05 21:33:24 +0000 2016\", \"default_profile\": true, \"favourites_count\": 80, \"followers_count\": 186, \"friends_count\": 305, \"id\": 4878880365, \"id_str\": \"4878880365\", \"lang\": \"es\", \"listed_count\": 2, \"location\": \"Valdivia, Chile\", \"name\": \"Luis Cano\", \"profile_background_color\": \"F5F8FA\", \"profile_image_url\": \"http://pbs.twimg.com/profile_images/696822693677686785/wJqO_oao_normal.jpg\", \"profile_image_url_https\": \"https://pbs.twimg.com/profile_images/696822693677686785/wJqO_oao_normal.jpg\", \"profile_link_color\": \"1DA1F2\", \"profile_sidebar_border_color\": \"C0DEED\", \"profile_sidebar_fill_color\": \"DDEEF6\", \"profile_text_color\": \"333333\", \"profile_use_background_image\": true, \"screen_name\": \"lcanosilva\", \"statuses_count\": 3458}, \"user_mentions\": [{\"id\": 14148209, \"id_str\": \"14148209\", \"name\": \"manuel gallardo\", \"screen_name\": \"manuelgallardo\"}]}\n",
      "{\"created_at\": \"Wed Jan 02 23:54:22 +0000 2019\", \"hashtags\": [{\"text\": \"Verano\"}, {\"text\": \"UnVeranoSinPolera\"}], \"id\": 1080613300528996352, \"id_str\": \"1080613300528996352\", \"lang\": \"es\", \"retweet_count\": 32, \"retweeted_status\": {\"created_at\": \"Wed Jan 02 17:00:47 +0000 2019\", \"favorite_count\": 43, \"hashtags\": [{\"text\": \"Verano\"}, {\"text\": \"UnVeranoSinPolera\"}], \"id\": 1080509218996793344, \"id_str\": \"1080509218996793344\", \"lang\": \"es\", \"retweet_count\": 32, \"source\": \"<a href=\\\"http://twitter.com/download/iphone\\\" rel=\\\"nofollow\\\">Twitter for iPhone</a>\", \"text\": \"\\ud83d\\ude4aDespu\\u00e9s de las fiesta de fin de a\\u00f1o se viene la campa\\u00f1a m\\u00e1s dura del #Verano!! \\n#UnVeranoSinPolera \\ud83d\\udc37\\ud83d\\udc3d\\u2026 https://t.co/Cnhd7KwE9d\", \"truncated\": true, \"urls\": [{\"expanded_url\": \"https://twitter.com/i/web/status/1080509218996793344\", \"url\": \"https://t.co/Cnhd7KwE9d\"}], \"user\": {\"created_at\": \"Thu Jun 04 16:36:14 +0000 2009\", \"description\": \"M\\u00e9dico, Ignaciano, Pacifista, Estudioso, Donante,Trabajo x los pacientes de Chile\\nDiputado Los R\\u00edos #valdiviacl #elranco #AC #Ecolog\\u00eda #NoMasAFP CuentaPersonal\", \"favourites_count\": 7155, \"followers_count\": 50749, \"friends_count\": 48222, \"id\": 44655788, \"id_str\": \"44655788\", \"lang\": \"en\", \"listed_count\": 134, \"location\": \"Valdivia, Chile\", \"name\": \"Dr Patricio Rosas \\ud83c\\udde8\\ud83c\\uddf1\", \"profile_background_color\": \"9AE4E8\", \"profile_background_image_url\": \"http://abs.twimg.com/images/themes/theme16/bg.gif\", \"profile_background_image_url_https\": \"https://abs.twimg.com/images/themes/theme16/bg.gif\", \"profile_banner_url\": \"https://pbs.twimg.com/profile_banners/44655788/1500415281\", \"profile_image_url\": \"http://pbs.twimg.com/profile_images/971089588050636801/uowZEeno_normal.jpg\", \"profile_image_url_https\": \"https://pbs.twimg.com/profile_images/971089588050636801/uowZEeno_normal.jpg\", \"profile_link_color\": \"0084B4\", \"profile_sidebar_border_color\": \"BDDCAD\", \"profile_sidebar_fill_color\": \"DDFFCC\", \"profile_text_color\": \"333333\", \"profile_use_background_image\": true, \"screen_name\": \"patriciorosas\", \"statuses_count\": 10734, \"url\": \"https://t.co/HVGZBIybao\"}, \"user_mentions\": []}, \"source\": \"<a href=\\\"http://twitter.com/download/iphone\\\" rel=\\\"nofollow\\\">Twitter for iPhone</a>\", \"text\": \"RT @patriciorosas: \\ud83d\\ude4aDespu\\u00e9s de las fiesta de fin de a\\u00f1o se viene la campa\\u00f1a m\\u00e1s dura del #Verano!! \\n#UnVeranoSinPolera \\ud83d\\udc37\\ud83d\\udc3d\\n#NoMasCarbohidrat\\u2026\", \"urls\": [], \"user\": {\"created_at\": \"Thu Jun 04 16:36:14 +0000 2009\", \"description\": \"M\\u00e9dico, Ignaciano, Pacifista, Estudioso, Donante,Trabajo x los pacientes de Chile\\nDiputado Los R\\u00edos #valdiviacl #elranco #AC #Ecolog\\u00eda #NoMasAFP CuentaPersonal\", \"favourites_count\": 7155, \"followers_count\": 50749, \"friends_count\": 48222, \"id\": 44655788, \"id_str\": \"44655788\", \"lang\": \"en\", \"listed_count\": 134, \"location\": \"Valdivia, Chile\", \"name\": \"Dr Patricio Rosas \\ud83c\\udde8\\ud83c\\uddf1\", \"profile_background_color\": \"9AE4E8\", \"profile_background_image_url\": \"http://abs.twimg.com/images/themes/theme16/bg.gif\", \"profile_background_image_url_https\": \"https://abs.twimg.com/images/themes/theme16/bg.gif\", \"profile_banner_url\": \"https://pbs.twimg.com/profile_banners/44655788/1500415281\", \"profile_image_url\": \"http://pbs.twimg.com/profile_images/971089588050636801/uowZEeno_normal.jpg\", \"profile_image_url_https\": \"https://pbs.twimg.com/profile_images/971089588050636801/uowZEeno_normal.jpg\", \"profile_link_color\": \"0084B4\", \"profile_sidebar_border_color\": \"BDDCAD\", \"profile_sidebar_fill_color\": \"DDFFCC\", \"profile_text_color\": \"333333\", \"profile_use_background_image\": true, \"screen_name\": \"patriciorosas\", \"statuses_count\": 10734, \"url\": \"https://t.co/HVGZBIybao\"}, \"user_mentions\": [{\"id\": 44655788, \"id_str\": \"44655788\", \"name\": \"Dr Patricio Rosas \\ud83c\\udde8\\ud83c\\uddf1\", \"screen_name\": \"patriciorosas\"}]}\n",
      "{\"created_at\": \"Wed Jan 02 23:49:56 +0000 2019\", \"hashtags\": [{\"text\": \"PREUPOPULAR\"}], \"id\": 1080612184252731399, \"id_str\": \"1080612184252731399\", \"lang\": \"es\", \"retweet_count\": 1, \"retweeted_status\": {\"created_at\": \"Wed Jan 02 20:18:59 +0000 2019\", \"hashtags\": [{\"text\": \"PREUPOPULAR\"}], \"id\": 1080559096670101504, \"id_str\": \"1080559096670101504\", \"lang\": \"es\", \"retweet_count\": 1, \"source\": \"<a href=\\\"http://twitter.com/download/android\\\" rel=\\\"nofollow\\\">Twitter for Android</a>\", \"text\": \"B\\u00fasqueda de voluntarios para #PREUPOPULAR 2019. S\\u00famate si quieres ser parte de esta iniciativa que acompa\\u00f1a el proc\\u2026 https://t.co/y6wJkiP3Mw\", \"truncated\": true, \"urls\": [{\"expanded_url\": \"https://twitter.com/i/web/status/1080559096670101504\", \"url\": \"https://t.co/y6wJkiP3Mw\"}], \"user\": {\"created_at\": \"Thu Sep 27 23:19:17 +0000 2018\", \"default_profile\": true, \"description\": \"Centro de Salud Mental Comunitaria Las \\u00c1nimas. \\nQueremos ser un aporte al bienestar y salud mental de nuestra comunidad. \\ud83c\\udf31\", \"favourites_count\": 64, \"followers_count\": 49, \"friends_count\": 123, \"id\": 1045452847888977920, \"id_str\": \"1045452847888977920\", \"lang\": \"en\", \"location\": \"Valdivia, Chile\", \"name\": \"Cesamco Las \\u00c1nimas\", \"profile_background_color\": \"F5F8FA\", \"profile_banner_url\": \"https://pbs.twimg.com/profile_banners/1045452847888977920/1538090714\", \"profile_image_url\": \"http://pbs.twimg.com/profile_images/1046789129802067968/CisWiG7M_normal.jpg\", \"profile_image_url_https\": \"https://pbs.twimg.com/profile_images/1046789129802067968/CisWiG7M_normal.jpg\", \"profile_link_color\": \"1DA1F2\", \"profile_sidebar_border_color\": \"C0DEED\", \"profile_sidebar_fill_color\": \"DDEEF6\", \"profile_text_color\": \"333333\", \"profile_use_background_image\": true, \"screen_name\": \"cesamco\", \"statuses_count\": 93}, \"user_mentions\": []}, \"source\": \"<a href=\\\"https://mobile.twitter.com\\\" rel=\\\"nofollow\\\">Twitter Lite</a>\", \"text\": \"RT @cesamco: B\\u00fasqueda de voluntarios para #PREUPOPULAR 2019. S\\u00famate si quieres ser parte de esta iniciativa que acompa\\u00f1a el proceso de prep\\u2026\", \"urls\": [], \"user\": {\"created_at\": \"Sat Aug 23 19:10:06 +0000 2014\", \"default_profile\": true, \"description\": \"Barrio de Las Animas, en Valdivia - Chile\", \"favourites_count\": 216, \"followers_count\": 606, \"friends_count\": 182, \"id\": 2759927168, \"id_str\": \"2759927168\", \"lang\": \"es\", \"listed_count\": 1, \"name\": \"Barrio de Las Animas\", \"profile_background_color\": \"C0DEED\", \"profile_background_image_url\": \"http://abs.twimg.com/images/themes/theme1/bg.png\", \"profile_background_image_url_https\": \"https://abs.twimg.com/images/themes/theme1/bg.png\", \"profile_image_url\": \"http://pbs.twimg.com/profile_images/503259247769944064/woKclDvW_normal.jpeg\", \"profile_image_url_https\": \"https://pbs.twimg.com/profile_images/503259247769944064/woKclDvW_normal.jpeg\", \"profile_link_color\": \"1DA1F2\", \"profile_sidebar_border_color\": \"C0DEED\", \"profile_sidebar_fill_color\": \"DDEEF6\", \"profile_text_color\": \"333333\", \"profile_use_background_image\": true, \"screen_name\": \"barriolasanimas\", \"statuses_count\": 2672, \"url\": \"http://t.co/yY5ONIU8Lc\"}, \"user_mentions\": [{\"id\": 1045452847888977920, \"id_str\": \"1045452847888977920\", \"name\": \"Cesamco Las \\u00c1nimas\", \"screen_name\": \"cesamco\"}]}\n",
      "{\"created_at\": \"Wed Jan 02 23:49:47 +0000 2019\", \"favorite_count\": 5, \"hashtags\": [{\"text\": \"valdiviacl\"}], \"id\": 1080612148399820801, \"id_str\": \"1080612148399820801\", \"lang\": \"es\", \"media\": [{\"display_url\": \"pic.twitter.com/sJZLvLJn3X\", \"expanded_url\": \"https://twitter.com/diario_valdivia/status/1080612148399820801/photo/1\", \"id\": 1080612146961154048, \"media_url\": \"http://pbs.twimg.com/media/Dv8bBbeXgAAcUK2.jpg\", \"media_url_https\": \"https://pbs.twimg.com/media/Dv8bBbeXgAAcUK2.jpg\", \"sizes\": {\"large\": {\"h\": 533, \"resize\": \"fit\", \"w\": 890}, \"medium\": {\"h\": 533, \"resize\": \"fit\", \"w\": 890}, \"small\": {\"h\": 407, \"resize\": \"fit\", \"w\": 680}, \"thumb\": {\"h\": 150, \"resize\": \"crop\", \"w\": 150}}, \"type\": \"photo\", \"url\": \"https://t.co/sJZLvLJn3X\"}], \"retweet_count\": 2, \"source\": \"<a href=\\\"http://www.diariodevaldivia.cl\\\" rel=\\\"nofollow\\\">DiarioDeValdivia</a>\", \"text\": \"Falleci\\u00f3 el escritor valdiviano Pedro Guillermo Jara Q.E.P.D #valdiviacl https://t.co/EwAubLecSA https://t.co/sJZLvLJn3X\", \"urls\": [{\"expanded_url\": \"http://www.diariodevaldivia.cl/noticia/defunciones/2019/01/fallecio-el-escritor-valdiviano-pedro-guillermo-jara-qepd\", \"url\": \"https://t.co/EwAubLecSA\"}], \"user\": {\"created_at\": \"Tue Apr 21 15:43:23 +0000 2015\", \"default_profile\": true, \"favourites_count\": 3, \"followers_count\": 2744, \"friends_count\": 156, \"id\": 3191205015, \"id_str\": \"3191205015\", \"lang\": \"es\", \"listed_count\": 10, \"name\": \"Diario de Valdivia\", \"profile_background_color\": \"C0DEED\", \"profile_background_image_url\": \"http://abs.twimg.com/images/themes/theme1/bg.png\", \"profile_background_image_url_https\": \"https://abs.twimg.com/images/themes/theme1/bg.png\", \"profile_image_url\": \"http://pbs.twimg.com/profile_images/590570725204963328/zil8xJSq_normal.jpg\", \"profile_image_url_https\": \"https://pbs.twimg.com/profile_images/590570725204963328/zil8xJSq_normal.jpg\", \"profile_link_color\": \"1DA1F2\", \"profile_sidebar_border_color\": \"C0DEED\", \"profile_sidebar_fill_color\": \"DDEEF6\", \"profile_text_color\": \"333333\", \"profile_use_background_image\": true, \"screen_name\": \"diario_valdivia\", \"statuses_count\": 7202, \"url\": \"http://t.co/ipJWUA9B2O\"}, \"user_mentions\": []}\n",
      "{\"created_at\": \"Wed Jan 02 23:48:09 +0000 2019\", \"hashtags\": [], \"id\": 1080611735751573505, \"id_str\": \"1080611735751573505\", \"lang\": \"es\", \"retweet_count\": 16, \"retweeted_status\": {\"created_at\": \"Wed Jan 02 23:31:55 +0000 2019\", \"favorite_count\": 12, \"hashtags\": [], \"id\": 1080607651803922433, \"id_str\": \"1080607651803922433\", \"lang\": \"es\", \"retweet_count\": 16, \"source\": \"<a href=\\\"http://twitter.com/download/android\\\" rel=\\\"nofollow\\\">Twitter for Android</a>\", \"text\": \"Estimados vecinos, les invitamos a leer y compartir la siguiente declaraci\\u00f3n p\\u00fablica de nuestra directiva, a ra\\u00edz d\\u2026 https://t.co/ouAmPjQnNc\", \"truncated\": true, \"urls\": [{\"expanded_url\": \"https://twitter.com/i/web/status/1080607651803922433\", \"url\": \"https://t.co/ouAmPjQnNc\"}], \"user\": {\"created_at\": \"Tue Apr 03 15:11:27 +0000 2018\", \"default_profile\": true, \"description\": \"Cuenta oficial de la Junta de Vecinos del sector #Torobayo en #Valdiviacl. Medio de comunicaci\\u00f3n con nuestros vecinos y visitantes\", \"favourites_count\": 58, \"followers_count\": 205, \"friends_count\": 212, \"id\": 981187429653733377, \"id_str\": \"981187429653733377\", \"lang\": \"es\", \"location\": \"Valdivia, Chile\", \"name\": \"Junta de Vecinos Torobayo\", \"profile_background_color\": \"F5F8FA\", \"profile_banner_url\": \"https://pbs.twimg.com/profile_banners/981187429653733377/1522859643\", \"profile_image_url\": \"http://pbs.twimg.com/profile_images/981188338869854210/sibKNLlZ_normal.jpg\", \"profile_image_url_https\": \"https://pbs.twimg.com/profile_images/981188338869854210/sibKNLlZ_normal.jpg\", \"profile_link_color\": \"1DA1F2\", \"profile_sidebar_border_color\": \"C0DEED\", \"profile_sidebar_fill_color\": \"DDEEF6\", \"profile_text_color\": \"333333\", \"profile_use_background_image\": true, \"screen_name\": \"JJVVTorobayo\", \"statuses_count\": 136}, \"user_mentions\": []}, \"source\": \"<a href=\\\"http://twitter.com/download/iphone\\\" rel=\\\"nofollow\\\">Twitter for iPhone</a>\", \"text\": \"RT @JJVVTorobayo: Estimados vecinos, les invitamos a leer y compartir la siguiente declaraci\\u00f3n p\\u00fablica de nuestra directiva, a ra\\u00edz de la p\\u2026\", \"urls\": [], \"user\": {\"created_at\": \"Sat Jul 22 14:52:34 +0000 2017\", \"default_profile\": true, \"default_profile_image\": true, \"favourites_count\": 35, \"followers_count\": 8, \"friends_count\": 96, \"id\": 888773770399420417, \"id_str\": \"888773770399420417\", \"lang\": \"es\", \"name\": \"Rhernandez\", \"profile_background_color\": \"F5F8FA\", \"profile_image_url\": \"http://abs.twimg.com/sticky/default_profile_images/default_profile_normal.png\", \"profile_image_url_https\": \"https://abs.twimg.com/sticky/default_profile_images/default_profile_normal.png\", \"profile_link_color\": \"1DA1F2\", \"profile_sidebar_border_color\": \"C0DEED\", \"profile_sidebar_fill_color\": \"DDEEF6\", \"profile_text_color\": \"333333\", \"profile_use_background_image\": true, \"screen_name\": \"Rhernan88620821\", \"statuses_count\": 204}, \"user_mentions\": [{\"id\": 981187429653733377, \"id_str\": \"981187429653733377\", \"name\": \"Junta de Vecinos Torobayo\", \"screen_name\": \"JJVVTorobayo\"}]}\n",
      "{\"created_at\": \"Wed Jan 02 23:46:32 +0000 2019\", \"hashtags\": [], \"id\": 1080611330053296129, \"id_str\": \"1080611330053296129\", \"lang\": \"es\", \"retweet_count\": 16, \"retweeted_status\": {\"created_at\": \"Wed Jan 02 23:31:55 +0000 2019\", \"favorite_count\": 12, \"hashtags\": [], \"id\": 1080607651803922433, \"id_str\": \"1080607651803922433\", \"lang\": \"es\", \"retweet_count\": 16, \"source\": \"<a href=\\\"http://twitter.com/download/android\\\" rel=\\\"nofollow\\\">Twitter for Android</a>\", \"text\": \"Estimados vecinos, les invitamos a leer y compartir la siguiente declaraci\\u00f3n p\\u00fablica de nuestra directiva, a ra\\u00edz d\\u2026 https://t.co/ouAmPjQnNc\", \"truncated\": true, \"urls\": [{\"expanded_url\": \"https://twitter.com/i/web/status/1080607651803922433\", \"url\": \"https://t.co/ouAmPjQnNc\"}], \"user\": {\"created_at\": \"Tue Apr 03 15:11:27 +0000 2018\", \"default_profile\": true, \"description\": \"Cuenta oficial de la Junta de Vecinos del sector #Torobayo en #Valdiviacl. Medio de comunicaci\\u00f3n con nuestros vecinos y visitantes\", \"favourites_count\": 58, \"followers_count\": 205, \"friends_count\": 212, \"id\": 981187429653733377, \"id_str\": \"981187429653733377\", \"lang\": \"es\", \"location\": \"Valdivia, Chile\", \"name\": \"Junta de Vecinos Torobayo\", \"profile_background_color\": \"F5F8FA\", \"profile_banner_url\": \"https://pbs.twimg.com/profile_banners/981187429653733377/1522859643\", \"profile_image_url\": \"http://pbs.twimg.com/profile_images/981188338869854210/sibKNLlZ_normal.jpg\", \"profile_image_url_https\": \"https://pbs.twimg.com/profile_images/981188338869854210/sibKNLlZ_normal.jpg\", \"profile_link_color\": \"1DA1F2\", \"profile_sidebar_border_color\": \"C0DEED\", \"profile_sidebar_fill_color\": \"DDEEF6\", \"profile_text_color\": \"333333\", \"profile_use_background_image\": true, \"screen_name\": \"JJVVTorobayo\", \"statuses_count\": 136}, \"user_mentions\": []}, \"source\": \"<a href=\\\"http://twitter.com/download/iphone\\\" rel=\\\"nofollow\\\">Twitter for iPhone</a>\", \"text\": \"RT @JJVVTorobayo: Estimados vecinos, les invitamos a leer y compartir la siguiente declaraci\\u00f3n p\\u00fablica de nuestra directiva, a ra\\u00edz de la p\\u2026\", \"urls\": [], \"user\": {\"created_at\": \"Thu May 12 20:59:36 +0000 2011\", \"description\": \"Je ne regrette rien... soy de los de derecha sin complejos. SOY DONANTE\\u270c\\ud83c\\udf38\", \"favourites_count\": 965, \"followers_count\": 167, \"friends_count\": 244, \"id\": 297635214, \"id_str\": \"297635214\", \"lang\": \"es\", \"listed_count\": 1, \"location\": \"Chile\", \"name\": \"La Carmelita \\ud83c\\udf38\\ud83c\\udf3c\\ud83c\\udf38\\ud83c\\udf3c\", \"profile_background_color\": \"6AC71E\", \"profile_background_image_url\": \"http://abs.twimg.com/images/themes/theme11/bg.gif\", \"profile_background_image_url_https\": \"https://abs.twimg.com/images/themes/theme11/bg.gif\", \"profile_banner_url\": \"https://pbs.twimg.com/profile_banners/297635214/1526924650\", \"profile_image_url\": \"http://pbs.twimg.com/profile_images/998620468809613313/bNVZwLLF_normal.jpg\", \"profile_image_url_https\": \"https://pbs.twimg.com/profile_images/998620468809613313/bNVZwLLF_normal.jpg\", \"profile_link_color\": \"DD2E44\", \"profile_sidebar_border_color\": \"FFFFFF\", \"profile_sidebar_fill_color\": \"E5507E\", \"profile_text_color\": \"362720\", \"profile_use_background_image\": true, \"screen_name\": \"LaCarmelitaM\", \"statuses_count\": 2861}, \"user_mentions\": [{\"id\": 981187429653733377, \"id_str\": \"981187429653733377\", \"name\": \"Junta de Vecinos Torobayo\", \"screen_name\": \"JJVVTorobayo\"}]}\n",
      "{\"created_at\": \"Wed Jan 02 23:45:36 +0000 2019\", \"hashtags\": [], \"id\": 1080611094035611648, \"id_str\": \"1080611094035611648\", \"lang\": \"es\", \"retweet_count\": 9, \"retweeted_status\": {\"created_at\": \"Wed Jan 02 20:01:00 +0000 2019\", \"favorite_count\": 3, \"hashtags\": [], \"id\": 1080554571703992321, \"id_str\": \"1080554571703992321\", \"lang\": \"es\", \"retweet_count\": 9, \"source\": \"<a href=\\\"http://twitter.com/download/android\\\" rel=\\\"nofollow\\\">Twitter for Android</a>\", \"text\": \"\\u00a1Ayudanos, tu eres nuestro mejor Salva-vidas! \\u00a1\\u00a1\\u00a1No nades contra la corriente !!! \\ud83d\\ude4c \\ud83c\\udfca\\n\\nTe esperamos desde las 8.30\\u2026 https://t.co/vxr1tb3Ou0\", \"truncated\": true, \"urls\": [{\"expanded_url\": \"https://twitter.com/i/web/status/1080554571703992321\", \"url\": \"https://t.co/vxr1tb3Ou0\"}], \"user\": {\"created_at\": \"Tue Oct 04 21:13:04 +0000 2016\", \"default_profile\": true, \"favourites_count\": 34, \"followers_count\": 187, \"friends_count\": 1000, \"geo_enabled\": true, \"id\": 783414659495919616, \"id_str\": \"783414659495919616\", \"lang\": \"es\", \"location\": \"Los R\\u00edos, Chile\", \"name\": \"DonoSangre Los R\\u00edos\", \"profile_background_color\": \"F5F8FA\", \"profile_banner_url\": \"https://pbs.twimg.com/profile_banners/783414659495919616/1520602815\", \"profile_image_url\": \"http://pbs.twimg.com/profile_images/875832997404082176/qvtuXdVN_normal.jpg\", \"profile_image_url_https\": \"https://pbs.twimg.com/profile_images/875832997404082176/qvtuXdVN_normal.jpg\", \"profile_link_color\": \"1DA1F2\", \"profile_sidebar_border_color\": \"C0DEED\", \"profile_sidebar_fill_color\": \"DDEEF6\", \"profile_text_color\": \"333333\", \"profile_use_background_image\": true, \"screen_name\": \"donosangre_XIV\", \"statuses_count\": 363, \"url\": \"https://t.co/Mqc5EuiSKZ\"}, \"user_mentions\": []}, \"source\": \"<a href=\\\"http://twitter.com/download/android\\\" rel=\\\"nofollow\\\">Twitter for Android</a>\", \"text\": \"RT @donosangre_XIV: \\u00a1Ayudanos, tu eres nuestro mejor Salva-vidas! \\u00a1\\u00a1\\u00a1No nades contra la corriente !!! \\ud83d\\ude4c \\ud83c\\udfca\\n\\nTe esperamos desde las 8.30 en e\\u2026\", \"urls\": [], \"user\": {\"created_at\": \"Wed Mar 09 03:28:28 +0000 2011\", \"default_profile\": true, \"favourites_count\": 2336, \"followers_count\": 50, \"friends_count\": 65, \"id\": 262970748, \"id_str\": \"262970748\", \"lang\": \"es\", \"name\": \"Silvia R\\u00edos\", \"profile_background_color\": \"C0DEED\", \"profile_background_image_url\": \"http://abs.twimg.com/images/themes/theme1/bg.png\", \"profile_background_image_url_https\": \"https://abs.twimg.com/images/themes/theme1/bg.png\", \"profile_image_url\": \"http://pbs.twimg.com/profile_images/378800000536217857/c791378f57aaac34cead2eed02d7bb0d_normal.jpeg\", \"profile_image_url_https\": \"https://pbs.twimg.com/profile_images/378800000536217857/c791378f57aaac34cead2eed02d7bb0d_normal.jpeg\", \"profile_link_color\": \"1DA1F2\", \"profile_sidebar_border_color\": \"C0DEED\", \"profile_sidebar_fill_color\": \"DDEEF6\", \"profile_text_color\": \"333333\", \"profile_use_background_image\": true, \"screen_name\": \"Bruja_615\", \"statuses_count\": 1653}, \"user_mentions\": [{\"id\": 783414659495919616, \"id_str\": \"783414659495919616\", \"name\": \"DonoSangre Los R\\u00edos\", \"screen_name\": \"donosangre_XIV\"}]}\n",
      "{\"created_at\": \"Wed Jan 02 23:45:04 +0000 2019\", \"hashtags\": [], \"id\": 1080610960015015936, \"id_str\": \"1080610960015015936\", \"lang\": \"es\", \"retweet_count\": 16, \"retweeted_status\": {\"created_at\": \"Wed Jan 02 23:31:55 +0000 2019\", \"favorite_count\": 12, \"hashtags\": [], \"id\": 1080607651803922433, \"id_str\": \"1080607651803922433\", \"lang\": \"es\", \"retweet_count\": 16, \"source\": \"<a href=\\\"http://twitter.com/download/android\\\" rel=\\\"nofollow\\\">Twitter for Android</a>\", \"text\": \"Estimados vecinos, les invitamos a leer y compartir la siguiente declaraci\\u00f3n p\\u00fablica de nuestra directiva, a ra\\u00edz d\\u2026 https://t.co/ouAmPjQnNc\", \"truncated\": true, \"urls\": [{\"expanded_url\": \"https://twitter.com/i/web/status/1080607651803922433\", \"url\": \"https://t.co/ouAmPjQnNc\"}], \"user\": {\"created_at\": \"Tue Apr 03 15:11:27 +0000 2018\", \"default_profile\": true, \"description\": \"Cuenta oficial de la Junta de Vecinos del sector #Torobayo en #Valdiviacl. Medio de comunicaci\\u00f3n con nuestros vecinos y visitantes\", \"favourites_count\": 58, \"followers_count\": 205, \"friends_count\": 212, \"id\": 981187429653733377, \"id_str\": \"981187429653733377\", \"lang\": \"es\", \"location\": \"Valdivia, Chile\", \"name\": \"Junta de Vecinos Torobayo\", \"profile_background_color\": \"F5F8FA\", \"profile_banner_url\": \"https://pbs.twimg.com/profile_banners/981187429653733377/1522859643\", \"profile_image_url\": \"http://pbs.twimg.com/profile_images/981188338869854210/sibKNLlZ_normal.jpg\", \"profile_image_url_https\": \"https://pbs.twimg.com/profile_images/981188338869854210/sibKNLlZ_normal.jpg\", \"profile_link_color\": \"1DA1F2\", \"profile_sidebar_border_color\": \"C0DEED\", \"profile_sidebar_fill_color\": \"DDEEF6\", \"profile_text_color\": \"333333\", \"profile_use_background_image\": true, \"screen_name\": \"JJVVTorobayo\", \"statuses_count\": 136}, \"user_mentions\": []}, \"source\": \"<a href=\\\"http://twitter.com/download/android\\\" rel=\\\"nofollow\\\">Twitter for Android</a>\", \"text\": \"RT @JJVVTorobayo: Estimados vecinos, les invitamos a leer y compartir la siguiente declaraci\\u00f3n p\\u00fablica de nuestra directiva, a ra\\u00edz de la p\\u2026\", \"urls\": [], \"user\": {\"created_at\": \"Mon Jun 29 04:22:39 +0000 2009\", \"default_profile\": true, \"description\": \"Periodista UACh, Magister UDP y doctor (C) UAB. Comunicaci\\u00f3n estrat\\u00e9gica y pol\\u00edtica. Participaci\\u00f3n ciudadana. Vinculaci\\u00f3n con el medio. Chile\", \"favourites_count\": 377, \"followers_count\": 1767, \"friends_count\": 2153, \"geo_enabled\": true, \"id\": 51957032, \"id_str\": \"51957032\", \"lang\": \"es\", \"listed_count\": 25, \"location\": \"Valdivia\", \"name\": \"Dani Contreras L\", \"profile_background_color\": \"C0DEED\", \"profile_background_image_url\": \"http://abs.twimg.com/images/themes/theme1/bg.png\", \"profile_background_image_url_https\": \"https://abs.twimg.com/images/themes/theme1/bg.png\", \"profile_image_url\": \"http://pbs.twimg.com/profile_images/862739757/dani_normal.JPG\", \"profile_image_url_https\": \"https://pbs.twimg.com/profile_images/862739757/dani_normal.JPG\", \"profile_link_color\": \"1DA1F2\", \"profile_sidebar_border_color\": \"C0DEED\", \"profile_sidebar_fill_color\": \"DDEEF6\", \"profile_text_color\": \"333333\", \"profile_use_background_image\": true, \"screen_name\": \"DContrerasL\", \"statuses_count\": 242}, \"user_mentions\": [{\"id\": 981187429653733377, \"id_str\": \"981187429653733377\", \"name\": \"Junta de Vecinos Torobayo\", \"screen_name\": \"JJVVTorobayo\"}]}\n",
      "{\"created_at\": \"Wed Jan 02 23:44:42 +0000 2019\", \"hashtags\": [], \"id\": 1080610868294025216, \"id_str\": \"1080610868294025216\", \"lang\": \"es\", \"retweet_count\": 19, \"retweeted_status\": {\"created_at\": \"Mon Dec 10 22:38:47 +0000 2018\", \"favorite_count\": 52, \"hashtags\": [], \"id\": 1072259359609102337, \"id_str\": \"1072259359609102337\", \"lang\": \"es\", \"retweet_count\": 19, \"source\": \"<a href=\\\"http://twitter.com\\\" rel=\\\"nofollow\\\">Twitter Web Client</a>\", \"text\": \"Las promesas las cumplimos y ten\\u00edamos una con los vecinos de QUITAQUI\\u203c\\ufe0fLuego de generar un proyecto -y gracias al f\\u2026 https://t.co/otaWIsZvcY\", \"truncated\": true, \"urls\": [{\"expanded_url\": \"https://twitter.com/i/web/status/1072259359609102337\", \"url\": \"https://t.co/otaWIsZvcY\"}], \"user\": {\"created_at\": \"Fri Mar 25 17:50:02 +0000 2011\", \"description\": \"Orgulloso Alcalde de la ciudad m\\u00e1s linda de Chile:Valdivia, con muchos desaf\\u00edos y trabajo por llevar adelante. Palestina Libre!!!\", \"favourites_count\": 2221, \"followers_count\": 11381, \"friends_count\": 5995, \"geo_enabled\": true, \"id\": 272035930, \"id_str\": \"272035930\", \"lang\": \"es\", \"listed_count\": 38, \"location\": \"Valdivia - Chile\", \"name\": \"Omar Sabat\", \"profile_background_color\": \"F25805\", \"profile_background_image_url\": \"http://abs.twimg.com/images/themes/theme18/bg.gif\", \"profile_background_image_url_https\": \"https://abs.twimg.com/images/themes/theme18/bg.gif\", \"profile_background_tile\": true, \"profile_banner_url\": \"https://pbs.twimg.com/profile_banners/272035930/1510168182\", \"profile_image_url\": \"http://pbs.twimg.com/profile_images/968548546634018823/ckb0ZOox_normal.jpg\", \"profile_image_url_https\": \"https://pbs.twimg.com/profile_images/968548546634018823/ckb0ZOox_normal.jpg\", \"profile_link_color\": \"852704\", \"profile_sidebar_border_color\": \"FFFFFF\", \"profile_sidebar_fill_color\": \"F6F6F6\", \"profile_text_color\": \"333333\", \"profile_use_background_image\": true, \"screen_name\": \"Omar_Sabat\", \"statuses_count\": 17546, \"url\": \"https://t.co/NrBCmUSEdv\"}, \"user_mentions\": []}, \"source\": \"<a href=\\\"http://twitter.com/download/android\\\" rel=\\\"nofollow\\\">Twitter for Android</a>\", \"text\": \"RT @Omar_Sabat: Las promesas las cumplimos y ten\\u00edamos una con los vecinos de QUITAQUI\\u203c\\ufe0fLuego de generar un proyecto -y gracias al financiam\\u2026\", \"urls\": [], \"user\": {\"created_at\": \"Sun May 15 01:19:38 +0000 2011\", \"description\": \"Ingeniero en Alimentos, Profesor y Mag\\u00edster de Educaci\\u00f3n\", \"favourites_count\": 26, \"followers_count\": 304, \"friends_count\": 1614, \"geo_enabled\": true, \"id\": 298834118, \"id_str\": \"298834118\", \"lang\": \"es\", \"listed_count\": 2, \"location\": \"Chile, Valdivia\", \"name\": \"Neil Mike L\\u00f3pez Mons\", \"profile_background_color\": \"C0DEED\", \"profile_background_image_url\": \"http://abs.twimg.com/images/themes/theme1/bg.png\", \"profile_background_image_url_https\": \"https://abs.twimg.com/images/themes/theme1/bg.png\", \"profile_background_tile\": true, \"profile_image_url\": \"http://pbs.twimg.com/profile_images/1353861865/neilcapsula_normal.jpg\", \"profile_image_url_https\": \"https://pbs.twimg.com/profile_images/1353861865/neilcapsula_normal.jpg\", \"profile_link_color\": \"0084B4\", \"profile_sidebar_border_color\": \"C0DEED\", \"profile_sidebar_fill_color\": \"DDEEF6\", \"profile_text_color\": \"333333\", \"screen_name\": \"nlopezmonsalve\", \"statuses_count\": 343, \"url\": \"http://t.co/70Bht3R4VE\"}, \"user_mentions\": [{\"id\": 272035930, \"id_str\": \"272035930\", \"name\": \"Omar Sabat\", \"screen_name\": \"Omar_Sabat\"}]}\n",
      "{\"created_at\": \"Wed Jan 02 23:41:17 +0000 2019\", \"hashtags\": [{\"text\": \"Valdiviacl\"}], \"id\": 1080610008189014017, \"id_str\": \"1080610008189014017\", \"lang\": \"es\", \"quoted_status_id\": 1080467266150514690, \"quoted_status_id_str\": \"1080467266150514690\", \"retweet_count\": 1, \"retweeted_status\": {\"created_at\": \"Wed Jan 02 14:23:54 +0000 2019\", \"favorite_count\": 8, \"hashtags\": [{\"text\": \"Valdiviacl\"}], \"id\": 1080469740127178754, \"id_str\": \"1080469740127178754\", \"lang\": \"es\", \"quoted_status\": {\"created_at\": \"Wed Jan 02 14:14:05 +0000 2019\", \"favorite_count\": 73, \"hashtags\": [], \"id\": 1080467266150514690, \"id_str\": \"1080467266150514690\", \"lang\": \"es\", \"retweet_count\": 19, \"source\": \"<a href=\\\"http://twitter.com\\\" rel=\\\"nofollow\\\">Twitter Web Client</a>\", \"text\": \"CDVianos!\\nLlega al CDV un conocido para nuestro medio de 32 a\\u00f1os y 2 mts de estatura, que ya ha tenido dos pasos po\\u2026 https://t.co/QURoJrJkBe\", \"truncated\": true, \"urls\": [{\"expanded_url\": \"https://twitter.com/i/web/status/1080467266150514690\", \"url\": \"https://t.co/QURoJrJkBe\"}], \"user\": {\"created_at\": \"Tue Jun 02 18:29:06 +0000 2015\", \"description\": \"Cuenta Oficial del Club Deportivo Valdivia, Campe\\u00f3n Liga Nacional 2015-16 y BiCampe\\u00f3n Liga Saesa 2016-2017\", \"favourites_count\": 6080, \"followers_count\": 6306, \"friends_count\": 1436, \"id\": 3233887290, \"id_str\": \"3233887290\", \"lang\": \"es\", \"listed_count\": 19, \"location\": \"Valdivia, Los R\\u00edos, Chile\", \"name\": \"CD Valdivia Oficial\", \"profile_background_color\": \"000000\", \"profile_background_image_url\": \"http://abs.twimg.com/images/themes/theme1/bg.png\", \"profile_background_image_url_https\": \"https://abs.twimg.com/images/themes/theme1/bg.png\", \"profile_banner_url\": \"https://pbs.twimg.com/profile_banners/3233887290/1541695412\", \"profile_image_url\": \"http://pbs.twimg.com/profile_images/1080481712914747392/6xfZIUsQ_normal.jpg\", \"profile_image_url_https\": \"https://pbs.twimg.com/profile_images/1080481712914747392/6xfZIUsQ_normal.jpg\", \"profile_link_color\": \"DD2E44\", \"profile_sidebar_border_color\": \"000000\", \"profile_sidebar_fill_color\": \"000000\", \"profile_text_color\": \"000000\", \"profile_use_background_image\": true, \"screen_name\": \"CDVBasket\", \"statuses_count\": 3068, \"url\": \"https://t.co/igy2zlqCBN\"}, \"user_mentions\": []}, \"quoted_status_id\": 1080467266150514690, \"quoted_status_id_str\": \"1080467266150514690\", \"retweet_count\": 1, \"source\": \"<a href=\\\"http://twitter.com\\\" rel=\\\"nofollow\\\">Twitter Web Client</a>\", \"text\": \"Muy buen jugador! Vamos CDV  #Valdiviacl https://t.co/RHLkQsRWEU\", \"urls\": [{\"expanded_url\": \"https://twitter.com/CDVBasket/status/1080467266150514690\", \"url\": \"https://t.co/RHLkQsRWEU\"}], \"user\": {\"created_at\": \"Mon Jan 12 04:49:42 +0000 2015\", \"description\": \"Padre de familia;Donante; Aficionado a la fotograf\\u00eda;Adicto al mundo motor;Nacido y malcriado en #ValdiviaCl\", \"favourites_count\": 5149, \"followers_count\": 1342, \"friends_count\": 1812, \"geo_enabled\": true, \"id\": 2974148987, \"id_str\": \"2974148987\", \"lang\": \"es\", \"listed_count\": 9, \"location\": \"Valdivia, Chile \", \"name\": \"CamiloChav\", \"profile_background_color\": \"000000\", \"profile_background_image_url\": \"http://abs.twimg.com/images/themes/theme1/bg.png\", \"profile_background_image_url_https\": \"https://abs.twimg.com/images/themes/theme1/bg.png\", \"profile_banner_url\": \"https://pbs.twimg.com/profile_banners/2974148987/1445431195\", \"profile_image_url\": \"http://pbs.twimg.com/profile_images/921175213747863553/RRAoqh3i_normal.jpg\", \"profile_image_url_https\": \"https://pbs.twimg.com/profile_images/921175213747863553/RRAoqh3i_normal.jpg\", \"profile_link_color\": \"3B94D9\", \"profile_sidebar_border_color\": \"000000\", \"profile_sidebar_fill_color\": \"000000\", \"profile_text_color\": \"000000\", \"screen_name\": \"CamiloChavez_\", \"statuses_count\": 12519}, \"user_mentions\": []}, \"source\": \"<a href=\\\"http://twitter.com/download/iphone\\\" rel=\\\"nofollow\\\">Twitter for iPhone</a>\", \"text\": \"RT @CamiloChavez_: Muy buen jugador! Vamos CDV  #Valdiviacl https://t.co/RHLkQsRWEU\", \"urls\": [{\"expanded_url\": \"https://twitter.com/CDVBasket/status/1080467266150514690\", \"url\": \"https://t.co/RHLkQsRWEU\"}], \"user\": {\"created_at\": \"Fri Mar 05 18:10:08 +0000 2010\", \"favourites_count\": 1387, \"followers_count\": 63, \"friends_count\": 366, \"geo_enabled\": true, \"id\": 120178790, \"id_str\": \"120178790\", \"lang\": \"es\", \"location\": \"CHILE\", \"name\": \"CECILIA\", \"profile_background_color\": \"FF6699\", \"profile_background_image_url\": \"http://abs.twimg.com/images/themes/theme11/bg.gif\", \"profile_background_image_url_https\": \"https://abs.twimg.com/images/themes/theme11/bg.gif\", \"profile_background_tile\": true, \"profile_image_url\": \"http://pbs.twimg.com/profile_images/781619657459503104/tkC5YNDZ_normal.jpg\", \"profile_image_url_https\": \"https://pbs.twimg.com/profile_images/781619657459503104/tkC5YNDZ_normal.jpg\", \"profile_link_color\": \"B40B43\", \"profile_sidebar_border_color\": \"CC3366\", \"profile_sidebar_fill_color\": \"E5507E\", \"profile_text_color\": \"362720\", \"profile_use_background_image\": true, \"screen_name\": \"CECIWEV\", \"statuses_count\": 772}, \"user_mentions\": [{\"id\": 2974148987, \"id_str\": \"2974148987\", \"name\": \"CamiloChav\", \"screen_name\": \"CamiloChavez_\"}]}\n",
      "{\"created_at\": \"Wed Jan 02 23:41:04 +0000 2019\", \"hashtags\": [], \"id\": 1080609954657116160, \"id_str\": \"1080609954657116160\", \"lang\": \"es\", \"retweet_count\": 6, \"retweeted_status\": {\"created_at\": \"Wed Jan 02 17:36:42 +0000 2019\", \"favorite_count\": 16, \"hashtags\": [], \"id\": 1080518256627208198, \"id_str\": \"1080518256627208198\", \"lang\": \"es\", \"retweet_count\": 6, \"source\": \"<a href=\\\"http://twitter.com/download/android\\\" rel=\\\"nofollow\\\">Twitter for Android</a>\", \"text\": \"En balance, el @IntLosRios @casenjojerez destac\\u00f3 la gran labor de @Carabdechile durante las fiestas, aumentando en\\u2026 https://t.co/scDijNMQ4f\", \"truncated\": true, \"urls\": [{\"expanded_url\": \"https://twitter.com/i/web/status/1080518256627208198\", \"url\": \"https://t.co/scDijNMQ4f\"}], \"user\": {\"created_at\": \"Tue Mar 11 13:55:33 +0000 2014\", \"default_profile\": true, \"description\": \"Cuenta oficial Intendencia Regi\\u00f3n de Los R\\u00edos. https://t.co/M9QdmKstXQ\", \"favourites_count\": 12086, \"followers_count\": 8750, \"friends_count\": 959, \"geo_enabled\": true, \"id\": 2383758434, \"id_str\": \"2383758434\", \"lang\": \"es\", \"listed_count\": 47, \"location\": \"Regi\\u00f3n de Los R\\u00edos\", \"name\": \"Intendencia Los R\\u00edos\", \"profile_background_color\": \"C0DEED\", \"profile_background_image_url\": \"http://abs.twimg.com/images/themes/theme1/bg.png\", \"profile_background_image_url_https\": \"https://abs.twimg.com/images/themes/theme1/bg.png\", \"profile_banner_url\": \"https://pbs.twimg.com/profile_banners/2383758434/1521485099\", \"profile_image_url\": \"http://pbs.twimg.com/profile_images/986338881753829376/tlNbl8du_normal.jpg\", \"profile_image_url_https\": \"https://pbs.twimg.com/profile_images/986338881753829376/tlNbl8du_normal.jpg\", \"profile_link_color\": \"1DA1F2\", \"profile_sidebar_border_color\": \"C0DEED\", \"profile_sidebar_fill_color\": \"DDEEF6\", \"profile_text_color\": \"333333\", \"profile_use_background_image\": true, \"screen_name\": \"IntLosRios\", \"statuses_count\": 14921}, \"user_mentions\": [{\"id\": 2383758434, \"id_str\": \"2383758434\", \"name\": \"Intendencia Los R\\u00edos\", \"screen_name\": \"IntLosRios\"}, {\"id\": 147362946, \"id_str\": \"147362946\", \"name\": \"C\\u00e9sar Asenjo Jerez\", \"screen_name\": \"casenjojerez\"}, {\"id\": 118784585, \"id_str\": \"118784585\", \"name\": \"Carabineros de Chile\", \"screen_name\": \"Carabdechile\"}]}, \"source\": \"<a href=\\\"https://mobile.twitter.com\\\" rel=\\\"nofollow\\\">Twitter Lite</a>\", \"text\": \"RT @IntLosRios: En balance, el @IntLosRios @casenjojerez destac\\u00f3 la gran labor de @Carabdechile durante las fiestas, aumentando en m\\u00e1s de m\\u2026\", \"urls\": [], \"user\": {\"created_at\": \"Mon Jan 04 19:20:23 +0000 2016\", \"default_profile\": true, \"description\": \"Fot\\u00f3grafo,Santiaguino con el coraz\\u00f3n en Valdivia y cin\\u00e9filo nocturno.\", \"favourites_count\": 800, \"followers_count\": 118, \"friends_count\": 270, \"id\": 4707600455, \"id_str\": \"4707600455\", \"lang\": \"es\", \"location\": \"Valdivia\", \"name\": \"Franco Basso Bertrand\", \"profile_background_color\": \"F5F8FA\", \"profile_banner_url\": \"https://pbs.twimg.com/profile_banners/4707600455/1544532028\", \"profile_image_url\": \"http://pbs.twimg.com/profile_images/1072471077924888576/gQ5iAAfy_normal.jpg\", \"profile_image_url_https\": \"https://pbs.twimg.com/profile_images/1072471077924888576/gQ5iAAfy_normal.jpg\", \"profile_link_color\": \"1DA1F2\", \"profile_sidebar_border_color\": \"C0DEED\", \"profile_sidebar_fill_color\": \"DDEEF6\", \"profile_text_color\": \"333333\", \"profile_use_background_image\": true, \"screen_name\": \"FrancoxBasso\", \"statuses_count\": 190}, \"user_mentions\": [{\"id\": 2383758434, \"id_str\": \"2383758434\", \"name\": \"Intendencia Los R\\u00edos\", \"screen_name\": \"IntLosRios\"}, {\"id\": 2383758434, \"id_str\": \"2383758434\", \"name\": \"Intendencia Los R\\u00edos\", \"screen_name\": \"IntLosRios\"}, {\"id\": 147362946, \"id_str\": \"147362946\", \"name\": \"C\\u00e9sar Asenjo Jerez\", \"screen_name\": \"casenjojerez\"}, {\"id\": 118784585, \"id_str\": \"118784585\", \"name\": \"Carabineros de Chile\", \"screen_name\": \"Carabdechile\"}]}\n",
      "{\"created_at\": \"Wed Jan 02 23:40:30 +0000 2019\", \"favorite_count\": 4, \"hashtags\": [], \"id\": 1080609812910690304, \"id_str\": \"1080609812910690304\", \"lang\": \"es\", \"retweet_count\": 3, \"source\": \"<a href=\\\"https://mobile.twitter.com\\\" rel=\\\"nofollow\\\">Twitter Lite</a>\", \"text\": \"No entiendo \\u00e9sto. Cercaron el sitio eriazo de Pedro Montt con Av Francia. Excelente pero... \\u00bfpor qu\\u00e9 no sacar la ba\\u2026 https://t.co/nEvpqgwPhO\", \"truncated\": true, \"urls\": [{\"expanded_url\": \"https://twitter.com/i/web/status/1080609812910690304\", \"url\": \"https://t.co/nEvpqgwPhO\"}], \"user\": {\"created_at\": \"Wed Mar 31 04:44:28 +0000 2010\", \"description\": \"#Valdiviacl, #Regi\\u00f3nLosR\\u00edos, #Chile\", \"favourites_count\": 930, \"followers_count\": 15101, \"friends_count\": 4852, \"geo_enabled\": true, \"id\": 128122583, \"id_str\": \"128122583\", \"lang\": \"es\", \"listed_count\": 93, \"location\": \"Valdivia, Regi\\u00f3n de los R\\u00edos\", \"name\": \"valdivianos\", \"profile_background_color\": \"EDECE9\", \"profile_background_image_url\": \"http://abs.twimg.com/images/themes/theme3/bg.gif\", \"profile_background_image_url_https\": \"https://abs.twimg.com/images/themes/theme3/bg.gif\", \"profile_banner_url\": \"https://pbs.twimg.com/profile_banners/128122583/1471807690\", \"profile_image_url\": \"http://pbs.twimg.com/profile_images/378800000242211229/8b2197b8c2bc0ae124f219d84b51c7b6_normal.png\", \"profile_image_url_https\": \"https://pbs.twimg.com/profile_images/378800000242211229/8b2197b8c2bc0ae124f219d84b51c7b6_normal.png\", \"profile_link_color\": \"8F1515\", \"profile_sidebar_border_color\": \"FFFFFF\", \"profile_sidebar_fill_color\": \"E3E2DE\", \"profile_text_color\": \"634047\", \"profile_use_background_image\": true, \"screen_name\": \"valdivianos\", \"statuses_count\": 21953, \"url\": \"http://t.co/k7nlDWKUx5\"}, \"user_mentions\": []}\n",
      "{\"created_at\": \"Wed Jan 02 23:39:10 +0000 2019\", \"hashtags\": [], \"id\": 1080609474811969536, \"id_str\": \"1080609474811969536\", \"lang\": \"es\", \"retweet_count\": 4, \"retweeted_status\": {\"created_at\": \"Mon Oct 08 14:39:50 +0000 2018\", \"favorite_count\": 7, \"hashtags\": [], \"id\": 1049308390604849153, \"id_str\": \"1049308390604849153\", \"lang\": \"es\", \"retweet_count\": 4, \"source\": \"<a href=\\\"http://twitter.com\\\" rel=\\\"nofollow\\\">Twitter Web Client</a>\", \"text\": \"Ahora el escritor Pedro Guillermo Jara realiza Charla did\\u00e1ctica en Colegio Domus Mater en el marco de la 26\\u00b0 Feria\\u2026 https://t.co/XUU01Gjskl\", \"truncated\": true, \"urls\": [{\"expanded_url\": \"https://twitter.com/i/web/status/1049308390604849153\", \"url\": \"https://t.co/XUU01Gjskl\"}], \"user\": {\"created_at\": \"Thu Jan 14 17:59:08 +0000 2010\", \"description\": \"Corporaci\\u00f3n Cultural Municipal de Valdivia\", \"favourites_count\": 229, \"followers_count\": 3503, \"friends_count\": 1625, \"geo_enabled\": true, \"id\": 104882424, \"id_str\": \"104882424\", \"lang\": \"es\", \"listed_count\": 14, \"location\": \"Valdivia\", \"name\": \"CCM-Valdivia\", \"profile_background_color\": \"C0DEED\", \"profile_background_image_url\": \"http://abs.twimg.com/images/themes/theme1/bg.png\", \"profile_background_image_url_https\": \"https://abs.twimg.com/images/themes/theme1/bg.png\", \"profile_background_tile\": true, \"profile_banner_url\": \"https://pbs.twimg.com/profile_banners/104882424/1539266504\", \"profile_image_url\": \"http://pbs.twimg.com/profile_images/964251117784879105/snPN4yVp_normal.jpg\", \"profile_image_url_https\": \"https://pbs.twimg.com/profile_images/964251117784879105/snPN4yVp_normal.jpg\", \"profile_link_color\": \"0084B4\", \"profile_sidebar_border_color\": \"C0DEED\", \"profile_sidebar_fill_color\": \"DDEEF6\", \"profile_text_color\": \"333333\", \"profile_use_background_image\": true, \"screen_name\": \"ccmvaldivia\", \"statuses_count\": 3561, \"url\": \"https://t.co/1cBvSjZlaN\"}, \"user_mentions\": []}, \"source\": \"<a href=\\\"http://twitter.com/download/iphone\\\" rel=\\\"nofollow\\\">Twitter for iPhone</a>\", \"text\": \"RT @ccmvaldivia: Ahora el escritor Pedro Guillermo Jara realiza Charla did\\u00e1ctica en Colegio Domus Mater en el marco de la 26\\u00b0 Feria del Lib\\u2026\", \"urls\": [], \"user\": {\"created_at\": \"Thu Sep 22 19:24:31 +0000 2011\", \"description\": \"La lucha constante contra el miedo de las repercusiones sociales... Hazlo a tu manera\", \"favourites_count\": 1515, \"followers_count\": 240, \"friends_count\": 463, \"geo_enabled\": true, \"id\": 378174334, \"id_str\": \"378174334\", \"lang\": \"es\", \"location\": \"Valdilluvia \", \"name\": \"Marian\", \"profile_background_color\": \"FFF04D\", \"profile_background_image_url\": \"http://abs.twimg.com/images/themes/theme1/bg.png\", \"profile_background_image_url_https\": \"https://abs.twimg.com/images/themes/theme1/bg.png\", \"profile_background_tile\": true, \"profile_banner_url\": \"https://pbs.twimg.com/profile_banners/378174334/1388292553\", \"profile_image_url\": \"http://pbs.twimg.com/profile_images/1012489746025676800/cO0EEEF2_normal.jpg\", \"profile_image_url_https\": \"https://pbs.twimg.com/profile_images/1012489746025676800/cO0EEEF2_normal.jpg\", \"profile_link_color\": \"1BB840\", \"profile_sidebar_border_color\": \"E6D00E\", \"profile_sidebar_fill_color\": \"3A4022\", \"profile_text_color\": \"D4246A\", \"profile_use_background_image\": true, \"screen_name\": \"LechUzaconmono\", \"statuses_count\": 3768}, \"user_mentions\": [{\"id\": 104882424, \"id_str\": \"104882424\", \"name\": \"CCM-Valdivia\", \"screen_name\": \"ccmvaldivia\"}]}\n",
      "{\"created_at\": \"Wed Jan 02 23:37:25 +0000 2019\", \"hashtags\": [{\"text\": \"Valdiviacl\"}], \"id\": 1080609033890025478, \"id_str\": \"1080609033890025478\", \"lang\": \"es\", \"retweet_count\": 5, \"retweeted_status\": {\"created_at\": \"Wed Jan 02 22:01:51 +0000 2019\", \"favorite_count\": 3, \"hashtags\": [], \"id\": 1080584984568758277, \"id_str\": \"1080584984568758277\", \"lang\": \"es\", \"retweet_count\": 5, \"source\": \"<a href=\\\"http://twitter.com\\\" rel=\\\"nofollow\\\">Twitter Web Client</a>\", \"text\": \"[\\ud83c\\udfadGAMMA] Hoy falleci\\u00f3 Pedro Guillermo Jara reconocido escritor residente en Valdivia \\u27a1\\ufe0f https://t.co/x0Vdz8Yrw6\\u2026 https://t.co/hpet4e3Zai\", \"truncated\": true, \"urls\": [{\"expanded_url\": \"https://bit.ly/2SAqJmL\", \"url\": \"https://t.co/x0Vdz8Yrw6\"}, {\"expanded_url\": \"https://twitter.com/i/web/status/1080584984568758277\", \"url\": \"https://t.co/hpet4e3Zai\"}], \"user\": {\"created_at\": \"Wed Dec 01 22:42:00 +0000 2010\", \"description\": \"Diario electr\\u00f3nico de la Regi\\u00f3n de Los R\\u00edos. Cu\\u00e9ntanos qu\\u00e9 est\\u00e1 pasando donde t\\u00fa estas, mencionando @rioenlinea\", \"favourites_count\": 2702, \"followers_count\": 18380, \"friends_count\": 1266, \"geo_enabled\": true, \"id\": 221897750, \"id_str\": \"221897750\", \"lang\": \"es\", \"listed_count\": 90, \"location\": \"Valdivia, Chile\", \"name\": \"RioenLinea\", \"profile_background_color\": \"F7F9FA\", \"profile_background_image_url\": \"http://abs.twimg.com/images/themes/theme1/bg.png\", \"profile_background_image_url_https\": \"https://abs.twimg.com/images/themes/theme1/bg.png\", \"profile_banner_url\": \"https://pbs.twimg.com/profile_banners/221897750/1537994781\", \"profile_image_url\": \"http://pbs.twimg.com/profile_images/1073689728694870017/QnuY8zno_normal.jpg\", \"profile_image_url_https\": \"https://pbs.twimg.com/profile_images/1073689728694870017/QnuY8zno_normal.jpg\", \"profile_link_color\": \"1162A9\", \"profile_sidebar_border_color\": \"FFFFFF\", \"profile_sidebar_fill_color\": \"DDEEF6\", \"profile_text_color\": \"333333\", \"profile_use_background_image\": true, \"screen_name\": \"rioenlinea\", \"statuses_count\": 35840, \"url\": \"https://t.co/PPoq3cdMfH\"}, \"user_mentions\": []}, \"source\": \"<a href=\\\"http://twitter.com/download/iphone\\\" rel=\\\"nofollow\\\">Twitter for iPhone</a>\", \"text\": \"RT @rioenlinea: [\\ud83c\\udfadGAMMA] Hoy falleci\\u00f3 Pedro Guillermo Jara reconocido escritor residente en Valdivia \\u27a1\\ufe0f https://t.co/x0Vdz8Yrw6 #Valdiviacl\\u2026\", \"urls\": [{\"expanded_url\": \"https://bit.ly/2SAqJmL\", \"url\": \"https://t.co/x0Vdz8Yrw6\"}], \"user\": {\"created_at\": \"Thu Sep 22 19:24:31 +0000 2011\", \"description\": \"La lucha constante contra el miedo de las repercusiones sociales... Hazlo a tu manera\", \"favourites_count\": 1515, \"followers_count\": 240, \"friends_count\": 463, \"geo_enabled\": true, \"id\": 378174334, \"id_str\": \"378174334\", \"lang\": \"es\", \"location\": \"Valdilluvia \", \"name\": \"Marian\", \"profile_background_color\": \"FFF04D\", \"profile_background_image_url\": \"http://abs.twimg.com/images/themes/theme1/bg.png\", \"profile_background_image_url_https\": \"https://abs.twimg.com/images/themes/theme1/bg.png\", \"profile_background_tile\": true, \"profile_banner_url\": \"https://pbs.twimg.com/profile_banners/378174334/1388292553\", \"profile_image_url\": \"http://pbs.twimg.com/profile_images/1012489746025676800/cO0EEEF2_normal.jpg\", \"profile_image_url_https\": \"https://pbs.twimg.com/profile_images/1012489746025676800/cO0EEEF2_normal.jpg\", \"profile_link_color\": \"1BB840\", \"profile_sidebar_border_color\": \"E6D00E\", \"profile_sidebar_fill_color\": \"3A4022\", \"profile_text_color\": \"D4246A\", \"profile_use_background_image\": true, \"screen_name\": \"LechUzaconmono\", \"statuses_count\": 3768}, \"user_mentions\": [{\"id\": 221897750, \"id_str\": \"221897750\", \"name\": \"RioenLinea\", \"screen_name\": \"rioenlinea\"}]}\n",
      "{\"created_at\": \"Wed Jan 02 23:34:30 +0000 2019\", \"hashtags\": [{\"text\": \"CauCau\"}, {\"text\": \"Valdiviacl\"}], \"id\": 1080608302495657985, \"id_str\": \"1080608302495657985\", \"lang\": \"es\", \"retweet_count\": 17, \"retweeted_status\": {\"created_at\": \"Wed Jan 02 23:05:59 +0000 2019\", \"favorite_count\": 14, \"hashtags\": [{\"text\": \"CauCau\"}], \"id\": 1080601123189338114, \"id_str\": \"1080601123189338114\", \"lang\": \"es\", \"retweet_count\": 17, \"source\": \"<a href=\\\"http://twitter.com/download/android\\\" rel=\\\"nofollow\\\">Twitter for Android</a>\", \"text\": \"El @MOPdeLosRios reitera que domingo 6 de enero se producir\\u00e1 nueva apertura programada de puente #CauCau de\\u2026 https://t.co/f5IspbJnYd\", \"truncated\": true, \"urls\": [{\"expanded_url\": \"https://twitter.com/i/web/status/1080601123189338114\", \"url\": \"https://t.co/f5IspbJnYd\"}], \"user\": {\"created_at\": \"Wed Apr 25 18:46:45 +0000 2018\", \"default_profile\": true, \"favourites_count\": 511, \"followers_count\": 1327, \"friends_count\": 2081, \"id\": 989214145454182400, \"id_str\": \"989214145454182400\", \"lang\": \"es\", \"listed_count\": 3, \"location\": \"Yungay 621, Valdivia, Chile.\", \"name\": \"Mop Los R\\u00edos\", \"profile_background_color\": \"F5F8FA\", \"profile_banner_url\": \"https://pbs.twimg.com/profile_banners/989214145454182400/1535672084\", \"profile_image_url\": \"http://pbs.twimg.com/profile_images/989969841531604992/RObdt27U_normal.jpg\", \"profile_image_url_https\": \"https://pbs.twimg.com/profile_images/989969841531604992/RObdt27U_normal.jpg\", \"profile_link_color\": \"1DA1F2\", \"profile_sidebar_border_color\": \"C0DEED\", \"profile_sidebar_fill_color\": \"DDEEF6\", \"profile_text_color\": \"333333\", \"profile_use_background_image\": true, \"screen_name\": \"MOPdeLosRios\", \"statuses_count\": 1061, \"url\": \"https://t.co/CpKfRnhS3C\"}, \"user_mentions\": [{\"id\": 989214145454182400, \"id_str\": \"989214145454182400\", \"name\": \"Mop Los R\\u00edos\", \"screen_name\": \"MOPdeLosRios\"}]}, \"source\": \"<a href=\\\"http://twitter.com/download/iphone\\\" rel=\\\"nofollow\\\">Twitter for iPhone</a>\", \"text\": \"RT @MOPdeLosRios: El @MOPdeLosRios reitera que domingo 6 de enero se producir\\u00e1 nueva apertura programada de puente #CauCau de #Valdiviacl,\\u2026\", \"urls\": [], \"user\": {\"created_at\": \"Tue Aug 29 00:14:41 +0000 2017\", \"default_profile\": true, \"description\": \"Ingeniero Comercial y Master en Innovaci\\u00f3n.\", \"favourites_count\": 1129, \"followers_count\": 78, \"friends_count\": 202, \"id\": 902323582608576514, \"id_str\": \"902323582608576514\", \"lang\": \"en\", \"location\": \"Chile\", \"name\": \"Loreto Reyes\", \"profile_background_color\": \"F5F8FA\", \"profile_image_url\": \"http://pbs.twimg.com/profile_images/909460542296903680/a4csBzsf_normal.jpg\", \"profile_image_url_https\": \"https://pbs.twimg.com/profile_images/909460542296903680/a4csBzsf_normal.jpg\", \"profile_link_color\": \"1DA1F2\", \"profile_sidebar_border_color\": \"C0DEED\", \"profile_sidebar_fill_color\": \"DDEEF6\", \"profile_text_color\": \"333333\", \"profile_use_background_image\": true, \"screen_name\": \"mlreyess\", \"statuses_count\": 430}, \"user_mentions\": [{\"id\": 989214145454182400, \"id_str\": \"989214145454182400\", \"name\": \"Mop Los R\\u00edos\", \"screen_name\": \"MOPdeLosRios\"}, {\"id\": 989214145454182400, \"id_str\": \"989214145454182400\", \"name\": \"Mop Los R\\u00edos\", \"screen_name\": \"MOPdeLosRios\"}]}\n"
     ]
    }
   ],
   "source": [
    "for i in results:\n",
    "    print(i)"
   ]
  },
  {
   "cell_type": "code",
   "execution_count": 33,
   "metadata": {},
   "outputs": [
    {
     "name": "stdout",
     "output_type": "stream",
     "text": [
      "Luis Cano\n",
      "Dr Patricio Rosas 🇨🇱\n",
      "Barrio de Las Animas\n",
      "Diario de Valdivia\n",
      "Rhernandez\n",
      "La Carmelita 🌸🌼🌸🌼\n",
      "Silvia Ríos\n",
      "Dani Contreras L\n",
      "Neil Mike López Mons\n",
      "CECILIA\n",
      "Franco Basso Bertrand\n",
      "valdivianos\n",
      "Marian\n",
      "Marian\n",
      "Loreto Reyes\n"
     ]
    }
   ],
   "source": [
    "for i in results:\n",
    "    print(i.user.name)"
   ]
  },
  {
   "cell_type": "code",
   "execution_count": null,
   "metadata": {},
   "outputs": [],
   "source": []
  }
 ],
 "metadata": {
  "kernelspec": {
   "display_name": "Python 3",
   "language": "python",
   "name": "python3"
  },
  "language_info": {
   "codemirror_mode": {
    "name": "ipython",
    "version": 3
   },
   "file_extension": ".py",
   "mimetype": "text/x-python",
   "name": "python",
   "nbconvert_exporter": "python",
   "pygments_lexer": "ipython3",
   "version": "3.6.6"
  }
 },
 "nbformat": 4,
 "nbformat_minor": 2
}
