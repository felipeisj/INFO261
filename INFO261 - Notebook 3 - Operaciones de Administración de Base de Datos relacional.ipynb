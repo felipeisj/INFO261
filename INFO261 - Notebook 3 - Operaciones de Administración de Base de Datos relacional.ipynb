{
 "cells": [
  {
   "cell_type": "markdown",
   "metadata": {},
   "source": [
    "# Notebook 3: Operaciones de Administración de Base de Datos relacional"
   ]
  },
  {
   "cell_type": "markdown",
   "metadata": {},
   "source": [
    "En el ciclo de vida de una base de datos relacional, a menudo el administrador de la BD tiene que realizar ciertas operaciones de mantención. Mencionamos en particular:\n",
    "\n",
    "1- Realizar una copia de seguridad de los datos\n",
    "\n",
    "2- Crear usuarios y definir permisos de acceso a la BD\n",
    "\n",
    "3- Modificar la estructura de la BD\n",
    "\n",
    "4- Agregar restricciones o reglas de integridad sobre la estructura de los datos"
   ]
  },
  {
   "cell_type": "markdown",
   "metadata": {},
   "source": [
    "## Ejercicio 1: Crear una BD de prueba básica"
   ]
  },
  {
   "cell_type": "markdown",
   "metadata": {},
   "source": [
    "Para realizar los ejercicios siguientes, primero vamos a crear una BD de prueba básica, llamada \"Valdivia\". Esta base de datos está constituida por 3 tablas:\n",
    "\n",
    "- PERSONA(pk_RUT, Nombre, Edad)   (ej.: \"1, Juan, 20\")\n",
    "\n",
    "- LUGAR_DE_INTERES(pk_Lugar, Descripcion, Categoria, Latitud, Longitud)  (ej.; \"1, Mercado Fluvial, Turismo, -39.81, -73.24\")\n",
    "\n",
    "- DESPLAZARSE(#pk_RUT, fecha, Latitud, Longitud)  (ej. \"1, 30/09/2018 12:00:00, -39, -70\")"
   ]
  },
  {
   "cell_type": "markdown",
   "metadata": {},
   "source": [
    "1) Implementar la estructura de esta base de datos en MySQL indicando las claves primarias y foraneas y los tipos de datos\n",
    "\n",
    "2) Insertar al menos 5 filas en cada tabla\n",
    "\n",
    "3) ¿A qué tipo de aplicación podría servir esta base de datos?"
   ]
  },
  {
   "cell_type": "code",
   "execution_count": 2,
   "metadata": {
    "scrolled": true
   },
   "outputs": [],
   "source": [
    "import mysql.connector\n",
    "import pandas as pd\n",
    "from IPython.display import display,HTML\n",
    "\n",
    "db_connection = mysql.connector.connect(user=\"root\",host=\"localhost\",password=\"password\")\n",
    "cursor = db_connection.cursor()"
   ]
  },
  {
   "cell_type": "code",
   "execution_count": 3,
   "metadata": {
    "collapsed": true
   },
   "outputs": [
    {
     "ename": "DatabaseError",
     "evalue": "1007 (HY000): Can't create database 'valdivia'; database exists",
     "output_type": "error",
     "traceback": [
      "\u001b[0;31m---------------------------------------------------------------------------\u001b[0m",
      "\u001b[0;31mMySQLInterfaceError\u001b[0m                       Traceback (most recent call last)",
      "\u001b[0;32m~/.local/lib/python3.6/site-packages/mysql/connector/connection_cext.py\u001b[0m in \u001b[0;36mcmd_query\u001b[0;34m(self, query, raw, buffered, raw_as_string)\u001b[0m\n\u001b[1;32m    391\u001b[0m                                \u001b[0mraw\u001b[0m\u001b[0;34m=\u001b[0m\u001b[0mraw\u001b[0m\u001b[0;34m,\u001b[0m \u001b[0mbuffered\u001b[0m\u001b[0;34m=\u001b[0m\u001b[0mbuffered\u001b[0m\u001b[0;34m,\u001b[0m\u001b[0;34m\u001b[0m\u001b[0m\n\u001b[0;32m--> 392\u001b[0;31m                                raw_as_string=raw_as_string)\n\u001b[0m\u001b[1;32m    393\u001b[0m         \u001b[0;32mexcept\u001b[0m \u001b[0mMySQLInterfaceError\u001b[0m \u001b[0;32mas\u001b[0m \u001b[0mexc\u001b[0m\u001b[0;34m:\u001b[0m\u001b[0;34m\u001b[0m\u001b[0m\n",
      "\u001b[0;31mMySQLInterfaceError\u001b[0m: Can't create database 'valdivia'; database exists",
      "\nDuring handling of the above exception, another exception occurred:\n",
      "\u001b[0;31mDatabaseError\u001b[0m                             Traceback (most recent call last)",
      "\u001b[0;32m<ipython-input-3-eb54445dc5f7>\u001b[0m in \u001b[0;36m<module>\u001b[0;34m\u001b[0m\n\u001b[0;32m----> 1\u001b[0;31m \u001b[0mcursor\u001b[0m\u001b[0;34m.\u001b[0m\u001b[0mexecute\u001b[0m\u001b[0;34m(\u001b[0m\u001b[0;34m\"CREATE DATABASE valdivia\"\u001b[0m\u001b[0;34m)\u001b[0m\u001b[0;34m\u001b[0m\u001b[0m\n\u001b[0m",
      "\u001b[0;32m~/.local/lib/python3.6/site-packages/mysql/connector/cursor_cext.py\u001b[0m in \u001b[0;36mexecute\u001b[0;34m(self, operation, params, multi)\u001b[0m\n\u001b[1;32m    264\u001b[0m             result = self._cnx.cmd_query(stmt, raw=self._raw,\n\u001b[1;32m    265\u001b[0m                                          \u001b[0mbuffered\u001b[0m\u001b[0;34m=\u001b[0m\u001b[0mself\u001b[0m\u001b[0;34m.\u001b[0m\u001b[0m_buffered\u001b[0m\u001b[0;34m,\u001b[0m\u001b[0;34m\u001b[0m\u001b[0m\n\u001b[0;32m--> 266\u001b[0;31m                                          raw_as_string=self._raw_as_string)\n\u001b[0m\u001b[1;32m    267\u001b[0m         \u001b[0;32mexcept\u001b[0m \u001b[0mMySQLInterfaceError\u001b[0m \u001b[0;32mas\u001b[0m \u001b[0mexc\u001b[0m\u001b[0;34m:\u001b[0m\u001b[0;34m\u001b[0m\u001b[0m\n\u001b[1;32m    268\u001b[0m             raise errors.get_mysql_exception(msg=exc.msg, errno=exc.errno,\n",
      "\u001b[0;32m~/.local/lib/python3.6/site-packages/mysql/connector/connection_cext.py\u001b[0m in \u001b[0;36mcmd_query\u001b[0;34m(self, query, raw, buffered, raw_as_string)\u001b[0m\n\u001b[1;32m    393\u001b[0m         \u001b[0;32mexcept\u001b[0m \u001b[0mMySQLInterfaceError\u001b[0m \u001b[0;32mas\u001b[0m \u001b[0mexc\u001b[0m\u001b[0;34m:\u001b[0m\u001b[0;34m\u001b[0m\u001b[0m\n\u001b[1;32m    394\u001b[0m             raise errors.get_mysql_exception(exc.errno, msg=exc.msg,\n\u001b[0;32m--> 395\u001b[0;31m                                              sqlstate=exc.sqlstate)\n\u001b[0m\u001b[1;32m    396\u001b[0m         \u001b[0;32mexcept\u001b[0m \u001b[0mAttributeError\u001b[0m\u001b[0;34m:\u001b[0m\u001b[0;34m\u001b[0m\u001b[0m\n\u001b[1;32m    397\u001b[0m             \u001b[0;32mif\u001b[0m \u001b[0mself\u001b[0m\u001b[0;34m.\u001b[0m\u001b[0m_unix_socket\u001b[0m\u001b[0;34m:\u001b[0m\u001b[0;34m\u001b[0m\u001b[0m\n",
      "\u001b[0;31mDatabaseError\u001b[0m: 1007 (HY000): Can't create database 'valdivia'; database exists"
     ]
    }
   ],
   "source": [
    "cursor.execute(\"CREATE DATABASE valdivia\")"
   ]
  },
  {
   "cell_type": "code",
   "execution_count": 4,
   "metadata": {
    "scrolled": true
   },
   "outputs": [],
   "source": [
    "cursor.execute(\"USE valdivia;\")"
   ]
  },
  {
   "cell_type": "code",
   "execution_count": 5,
   "metadata": {
    "collapsed": true
   },
   "outputs": [
    {
     "ename": "SyntaxError",
     "evalue": "invalid syntax (<ipython-input-5-a5b7db8eb5df>, line 1)",
     "output_type": "error",
     "traceback": [
      "\u001b[0;36m  File \u001b[0;32m\"<ipython-input-5-a5b7db8eb5df>\"\u001b[0;36m, line \u001b[0;32m1\u001b[0m\n\u001b[0;31m    CREATE TABLE PERSONA (\u001b[0m\n\u001b[0m               ^\u001b[0m\n\u001b[0;31mSyntaxError\u001b[0m\u001b[0;31m:\u001b[0m invalid syntax\n"
     ]
    }
   ],
   "source": [
    "CREATE TABLE PERSONA (\n",
    "    pk_RUT INT, \n",
    "    nombre CHAR(20) , \n",
    "    edad INT, \n",
    "    PRIMARY KEY(pk_RUT) );\n",
    "\n",
    "CREATE TABLE LUGAR_DE_INTERES (\n",
    "    pk_lugar INT, \n",
    "    descripcion CHAR(50), \n",
    "    categoria CHAR(15), \n",
    "    latitud DECIMAL(4,2), \n",
    "    longitud DECIMAL(4,2), \n",
    "    PRIMARY KEY(pk_lugar));\n",
    "\n",
    "CREATE TABLE DESPLAZARSE (\n",
    "    pk_RUT INT,\n",
    "    fecha TIMESTAMP, \n",
    "    latitud DECIMAL(4,2), \n",
    "    longitud DECIMAL(4,2),\n",
    "    FOREIGN KEY(pk_RUT) REFERENCES PERSONA(pk_RUT), \n",
    "    PRIMARY KEY(pk_RUT));"
   ]
  },
  {
   "cell_type": "code",
   "execution_count": 6,
   "metadata": {
    "collapsed": true
   },
   "outputs": [
    {
     "ename": "SyntaxError",
     "evalue": "invalid syntax (<ipython-input-6-4fb4d105fba4>, line 2)",
     "output_type": "error",
     "traceback": [
      "\u001b[0;36m  File \u001b[0;32m\"<ipython-input-6-4fb4d105fba4>\"\u001b[0;36m, line \u001b[0;32m2\u001b[0m\n\u001b[0;31m    INSERT INTO PERSONA (pk_rut, name, edad)\u001b[0m\n\u001b[0m              ^\u001b[0m\n\u001b[0;31mSyntaxError\u001b[0m\u001b[0;31m:\u001b[0m invalid syntax\n"
     ]
    }
   ],
   "source": [
    "#2(Agregar datos)\n",
    "INSERT INTO PERSONA (pk_rut, name, edad) \n",
    "VALUES (\"1\",\"Felipe\", \"20\"),  \n",
    "VALUES (\"2\",\"Ignacio\", \"23\"),\n",
    "VALUES (\"3\",\"Alejandro\", \"14\"),\n",
    "VALUES (\"4\",\"Nicolas\", \"30\"),\n",
    "VALUES (\"5\",\"Jesus\", \"20\");\n",
    "\n",
    "INSERT INTO LUGAR_DE_INTERES(pk_lugar, Descripcion, Categoria, Latitud, Longitud)\n",
    "VALUES (\"1\", \"Museo arte contemporánea\", \"Museo\", \"-39.81\", \"-74.92\"),\n",
    "VALUES (\"2\", \"Museo de la vida\", \"Museo\", \"-39.87\", \"-74.12\"),\n",
    "VALUES (\"3\", \"Parque Saval\", \"Parque\", \"-33.81\", \"-75.92\"),\n",
    "VALUES (\"4\", \"Parque botánico\", \"Parque\", \"-39.31\", \"-78.12\"),\n",
    "VALUES (\"5\", \"Parque Santa Inés\", \"Parque\", \"-35.81\", \"-74.09\");\n",
    "\n",
    "INSERT INTO DESPLAZARSE(pk_rut, fecha, Latitud, Longitud)\n",
    "VALUES (\"1\", \"25-12\", \"-39.81\", \"-74.92\"),\n",
    "VALUES (\"2\", \"26-12\", \"-39.87\", \"-74.12\"),\n",
    "VALUES (\"3\", \"24-12\", \"-33.81\", \"-75.92\"),\n",
    "VALUES (\"4\", \"23-11\", \"-39.31\", \"-78.12\"),\n",
    "VALUES (\"5\", \"28-12\", \"-35.81\", \"-74.09\");\n",
    "\n"
   ]
  },
  {
   "cell_type": "markdown",
   "metadata": {},
   "source": [
    "Esta base de datos podría servir a una aplicación destinada al Turismo."
   ]
  },
  {
   "cell_type": "markdown",
   "metadata": {},
   "source": [
    "## Ejercicio 2: Realizar una copia de seguridad de una BD y exportar datos"
   ]
  },
  {
   "cell_type": "markdown",
   "metadata": {},
   "source": [
    "<a href=\"https://dev.mysql.com/doc/refman/8.0/en/backup-and-recovery.html\"> Backup and Recovery in MySQL</a>\n",
    "\n",
    "1) ¿Por qué hacer copias de seguridad de su base de datos?\n",
    "\n",
    "2) Utilizar el comando <code>Mysqldump</code> para realizar una copia de su base de datos. ¿Cuál es el <i>output</i> de este comando?\n",
    "\n",
    "3) En algunos casos, queremos simplemente exportar datos para poder utilizarlos en otros contextos. ¿En qué consiste el formato de datos CSV? ¿Cómo exportar datos al formato CSV desde MySQL? (ver: <a href=\"http://www.mysqltutorial.org/mysql-export-table-to-csv/\">Tutorial</a>)"
   ]
  },
  {
   "cell_type": "markdown",
   "metadata": {},
   "source": [
    "#1)\n",
    "Las copias de seguridad de nuestra base de datos es necesaria para recuperar la información que ésta contiene,\n",
    "en caso de que algún error ocurra."
   ]
  },
  {
   "cell_type": "markdown",
   "metadata": {},
   "source": [
    "#2\n",
    "mysqldump -u root -p valdivia > valdivia_respaldo.sql  \n",
    "El output de este comando es crear un nuevo archivo llamado valdivia_respaldo.sql, el cual contiene\n",
    "la información de la base de datos valdivia."
   ]
  },
  {
   "cell_type": "markdown",
   "metadata": {},
   "source": [
    "#3)\n",
    "El formato csv o valores separados por comas, es un tipo de documento utilizado para representar los datos \n",
    "en forma de tabla. Este tipo de formato separa las columnas por comas \",\" y las filas por saltos de línea.\n",
    "Para exportar datos al formato CSV, primero se seleccionan los datos que quieren ser importados, luego se utiliza\n",
    "el comando INTO OUTFILE seguido de la instrucción 'Carpeta/nombre_archivo.csv' donde ha de ponerse el nombre de\n",
    "la carpeta, seguida del nombre del archivo .csv. A continuación se define la estructura de la tabla, con las\n",
    "instrucciones FIELDS ENCLOSED BY, TERMINATED BY, ESCAPED BY y LINES TERMINATED BY.\n"
   ]
  },
  {
   "cell_type": "markdown",
   "metadata": {},
   "source": [
    "## Ejercicio 3: Gestionar usuarios y privilegios de lectura y escritura\n",
    "\n",
    "En la configuración por defecto de MySQL, existe un sólo usuario, llamado 'root', lo cual tiene todos los derechos. En término de seguridad es muy poco recomendable trabajar siempre con el usuario 'root' (en particular cuando se deja los passwords en el código o un archivo de parametros). \n",
    "\n",
    "1) ¿Cuáles son los tipos de privilegios en una base de datos relacional?\n",
    "\n",
    "2) Crear un nuevo usuario y darle todos los privilegios sobre la base de datos 'Valdivia'\n",
    "\n",
    "3) Crear un nuevo usuario, lo cual tendrá solamente acceso de lectura sobre la tabla Lugar_de_interes y Desplazarse"
   ]
  },
  {
   "cell_type": "markdown",
   "metadata": {},
   "source": [
    "#1) Tipos de privilegios:\n",
    "•    Privilegios relacionados con tablas: alter, create, delete, drop, index, insert, select, update\n",
    "\n",
    "•    Algunos privilegios administrativos: file, proccess, super reload, replication client, grant option, shutdown\n",
    "\n",
    "•    Algunos privilegios para fines diversos: lock tables, show databases, create temporary tables."
   ]
  },
  {
   "cell_type": "markdown",
   "metadata": {},
   "source": [
    "#2)\n",
    "\n",
    "CREATE USER 'nuevo_usuario'@'localhost' IDENTIFIED BY 'password';\n",
    "GRANT ALL PRIVILEGES ON valdivia.* TO 'nuevo_usuario'@'localhost';\n",
    "FLUSH PRIVILEGES;\n"
   ]
  },
  {
   "cell_type": "markdown",
   "metadata": {},
   "source": [
    "#3)\n",
    "CREATE USER 'nuevo_usuariox'@'localhost' IDENTIFIED BY 'password';\n",
    "GRANT SELECT ON valdivia.LUGAR_DE_INTERES TO 'nuevo_usuariox'@'localhost';\n",
    "GRANT SELECT ON valdivia.DESPLAZARSE TO 'nuevo_usuariox'@'localhost';\n",
    "FLUSH PRIVILEGES;\n",
    "\n"
   ]
  },
  {
   "cell_type": "markdown",
   "metadata": {},
   "source": [
    "## Ejercicio 4: Modificar la estructura de una Base de Datos\n",
    "\n",
    "Supongamos que queremos modificar la estructura de la base de datos 'Valdivia'. \n",
    "\n",
    "1) Modificar la BD (sin borrarla) para agregar un campo 'nivel de estudio' en la tabla 'Persona'.\n",
    "\n",
    "2) Modificar la BD (sin borrarla) para dejar la posibilidad de tener varias categorías para describir un lugar de interés (implica crear una tabla adicional)\n",
    "\n",
    "3) Agregar una restricción para que las columnas \"Latitud\" y \"Longitud\" nuncan sean NULL"
   ]
  },
  {
   "cell_type": "code",
   "execution_count": null,
   "metadata": {},
   "outputs": [],
   "source": [
    "#1)\n",
    "ALTER TABLE PERSONA ADD COLUMN nivel_de_estudio varchar(30);\n",
    "#2)\n",
    "ALTER TABLE LUGAR_DE_INTERES DROP COLUMN categoria;\n",
    "CREATE TABLE CATEGORIA(\n",
    "Nombre_categoria VARCHAR(45),\n",
    "PRIMARY KEY  (Nombre_categoria)\n",
    ");\n",
    "CREATE TABLE CATEGORIA_PERTENECIENTE (\n",
    "nom_cate VARCHAR(45) NOT NULL,\n",
    "pk_lug INT,\n",
    "FOREIGN KEY (nom_cate) REFERENCES CATEGORIA (Nombre_categoria),\n",
    "FOREIGN KEY (pk_lug) REFERENCES LUGAR_DE_INTERES (pk_lugar)\n",
    ");\n",
    "\n",
    "#3)\n",
    "ALTER TABLE LUGAR_DE_INTERES MODIFY latitud DECIMAL(4,2) NOT NULL;\n",
    "ALTER TABLE LUGAR_DE_INTERES MODIFY longitud DECIMAL(4,2) NOT NULL;"
   ]
  },
  {
   "cell_type": "markdown",
   "metadata": {},
   "source": [
    "## Ejercicio 5 (opcional): Innovación para Valdivia - Smart City\n",
    "\n",
    "1) Revisar el concurso \"Desafio Smart City\": https://www.innoving.cl/smartcity\n",
    "\n",
    "2) Considerando que la empresa Telefonica del Sur podría darle acceso a ciertos datos telefónicos de la Ciudad, imaginar un escenario de innovación basado sobre una base de datos similar a aquella que creamos."
   ]
  },
  {
   "cell_type": "code",
   "execution_count": null,
   "metadata": {},
   "outputs": [],
   "source": []
  }
 ],
 "metadata": {
  "kernelspec": {
   "display_name": "Python 3",
   "language": "python",
   "name": "python3"
  },
  "language_info": {
   "codemirror_mode": {
    "name": "ipython",
    "version": 3
   },
   "file_extension": ".py",
   "mimetype": "text/x-python",
   "name": "python",
   "nbconvert_exporter": "python",
   "pygments_lexer": "ipython3",
   "version": "3.6.6"
  }
 },
 "nbformat": 4,
 "nbformat_minor": 2
}
